{
  "nbformat": 4,
  "nbformat_minor": 0,
  "metadata": {
    "colab": {
      "provenance": []
    },
    "kernelspec": {
      "name": "python3",
      "display_name": "Python 3"
    },
    "language_info": {
      "name": "python"
    }
  },
  "cells": [
    {
      "cell_type": "code",
      "source": [
        "!git clone \"https://github.com/jacquesvcritien/fyp/\""
      ],
      "metadata": {
        "colab": {
          "base_uri": "https://localhost:8080/"
        },
        "id": "UgSBXKClKABo",
        "outputId": "a3d2cd48-7d7d-4f52-bd6a-ad87fdafb87b"
      },
      "execution_count": null,
      "outputs": [
        {
          "output_type": "stream",
          "name": "stdout",
          "text": [
            "Cloning into 'fyp'...\n",
            "remote: Enumerating objects: 418, done.\u001b[K\n",
            "remote: Total 418 (delta 0), reused 0 (delta 0), pack-reused 418\u001b[K\n",
            "Receiving objects: 100% (418/418), 62.37 MiB | 20.44 MiB/s, done.\n",
            "Resolving deltas: 100% (177/177), done.\n"
          ]
        }
      ]
    },
    {
      "cell_type": "markdown",
      "source": [
        "#ANN"
      ],
      "metadata": {
        "id": "muo25JWqpvKn"
      }
    },
    {
      "cell_type": "code",
      "execution_count": null,
      "metadata": {
        "id": "ehDAZAo8f-fk"
      },
      "outputs": [],
      "source": [
        "import pandas as pd\n",
        "import numpy as np\n",
        "from matplotlib import pyplot as plt"
      ]
    },
    {
      "cell_type": "code",
      "source": [
        "def sigmoid(z):\n",
        "    return 1/(1+np.exp(-z))"
      ],
      "metadata": {
        "id": "PIOwv45Gxny7"
      },
      "execution_count": null,
      "outputs": []
    },
    {
      "cell_type": "code",
      "source": [
        "def initializeParameters(inputF, hiddenNeuron,outputF):\n",
        "    W1 = np.random.randn(hiddenNeuron,inputF)\n",
        "    W2 = np.random.randn(hiddenNeuron,inputF)\n",
        "    b1 = np.zeros((hiddenNeuron,1))\n",
        "    b2 = np.zeros((outputF,1))\n",
        "    parameters={\"W1\":W1,\"b1\": b1,\"W2\" : W2 , \"b2\": b2,}\n",
        "    return parameters"
      ],
      "metadata": {
        "id": "zYxy2hG15irD"
      },
      "execution_count": null,
      "outputs": []
    },
    {
      "cell_type": "code",
      "source": [
        "def forwardPropagation(X, Y, parameters):\n",
        "    m = X.shape[1]\n",
        "    W1 = parameters[\"W1\"]\n",
        "    W2 = parameters[\"W2\"]\n",
        "    b1 = parameters[\"b1\"]\n",
        "    b2 = parameters[\"b2\"]\n",
        "\n",
        "    Z1 = np.dot(W1, X) + b1\n",
        "    A1 = sigmoid(Z1)\n",
        "    Z2 = np.dot(W2, A1) + b2\n",
        "    A2 = sigmoid(Z2)\n",
        "\n",
        "    cache = (Z1, A1, W1, b1, Z2, A2, W2, b2)\n",
        "    logprobs = np.multiply(np.log(A2), Y) + np.multiply(np.log(1 - A2), (1 - Y))\n",
        "    cost = -np.sum(logprobs) / m\n",
        "    return cost, cache, A2"
      ],
      "metadata": {
        "id": "bgIU53XcIvjx"
      },
      "execution_count": null,
      "outputs": []
    },
    {
      "cell_type": "code",
      "source": [
        "def backwardPropagation(X, Y, cache):\n",
        "    m = X.shape[1]\n",
        "    (Z1, A1, W1, b1, Z2, A2, W2, b2) = cache\n",
        "\n",
        "    dZ2 = A2 - Y\n",
        "    dW2 = np.dot(dZ2, A1.T) / m\n",
        "    db2 = np.sum(dZ2, axis = 1, keepdims = True)\n",
        "\n",
        "    dA1 = np.dot(W2.T, dZ2)\n",
        "    dZ1 = np.multiply(dA1, A1 * (1- A1))\n",
        "    dW1 = np.dot(dZ1, X.T) / m\n",
        "    db1 = np.sum(dZ1, axis = 1, keepdims = True) / m\n",
        "\n",
        "    gradients = {\"dZ2\": dZ2, \"dW2\": dW2, \"db2\": db2,\n",
        "                 \"dZ1\": dZ1, \"dW1\": dW1, \"db1\": db1}\n",
        "    return gradients"
      ],
      "metadata": {
        "id": "rV9Rjfo8Iwcg"
      },
      "execution_count": null,
      "outputs": []
    },
    {
      "cell_type": "code",
      "source": [
        "# Updating the weights based on the negative gradients\n",
        "def updateParameters(parameters, gradients, learningRate):\n",
        "    parameters[\"W1\"] = parameters[\"W1\"] - learningRate * gradients[\"dW1\"]\n",
        "    parameters[\"W2\"] = parameters[\"W2\"] - learningRate * gradients[\"dW2\"]\n",
        "    parameters[\"b1\"] = parameters[\"b1\"] - learningRate * gradients[\"db1\"]\n",
        "    parameters[\"b2\"] = parameters[\"b2\"] - learningRate * gradients[\"db2\"]\n",
        "    return parameters"
      ],
      "metadata": {
        "id": "96uxbbWGI3a6"
      },
      "execution_count": null,
      "outputs": []
    },
    {
      "cell_type": "code",
      "source": [
        "X = np.array([[0, 0, 1, 1], [0, 1, 0, 1]]) # XOR input\n",
        "Y = np.array([[0, 1, 1, 0]]) # XOR output\n",
        "\n",
        "neuronsInHiddenLayers = 2 # number of hidden layer neurons (2)\n",
        "inputFeatures = X.shape[0] # number of input features (2)\n",
        "outputFeatures = Y.shape[0] # number of output features (1)\n",
        "parameters = initializeParameters(inputFeatures, neuronsInHiddenLayers, outputFeatures)\n",
        "print(parameters)\n",
        "epoch = 100000\n",
        "learningRate = 0.01\n",
        "losses = np.zeros((epoch, 1))"
      ],
      "metadata": {
        "id": "G8mTSjpNI6Gb",
        "outputId": "c16728f1-a449-43a8-eb8c-6f5a5ac5ac11",
        "colab": {
          "base_uri": "https://localhost:8080/"
        }
      },
      "execution_count": null,
      "outputs": [
        {
          "output_type": "stream",
          "name": "stdout",
          "text": [
            "{'W1': array([[-0.78819739,  0.29454888],\n",
            "       [ 0.96686893, -0.00372064]]), 'b1': array([[0.],\n",
            "       [0.]]), 'W2': array([[ 0.62308354, -1.62965128],\n",
            "       [ 0.7576775 ,  0.78325145]]), 'b2': array([[0.]])}\n"
          ]
        }
      ]
    },
    {
      "cell_type": "code",
      "source": [
        "for i in range(epoch):\n",
        "    losses[i, 0], cache, A2 = forwardPropagation(X, Y, parameters)\n",
        "    gradients = backwardPropagation(X, Y, cache)\n",
        "    parameters = updateParameters(parameters, gradients, learningRate)\n",
        ""
      ],
      "metadata": {
        "id": "QnR1R7LXw_c_"
      },
      "execution_count": null,
      "outputs": []
    },
    {
      "cell_type": "code",
      "source": [
        "plt.figure()\n",
        "plt.plot(losses)\n",
        "plt.xlabel(\"EPOCHS\")\n",
        "plt.ylabel(\"Loss value\")\n",
        "plt.show()\n",
        ""
      ],
      "metadata": {
        "colab": {
          "base_uri": "https://localhost:8080/",
          "height": 282
        },
        "id": "saYJ4T71UYWN",
        "outputId": "2b8f84c7-8cec-46ca-f4ca-879e07fe60ae"
      },
      "execution_count": null,
      "outputs": [
        {
          "output_type": "display_data",
          "data": {
            "text/plain": [
              "<Figure size 432x288 with 1 Axes>"
            ],
            "image/png": "[encoded data removed]"
          },
          "metadata": {
            "needs_background": "light"
          }
        }
      ]
    },
    {
      "cell_type": "code",
      "source": [
        "\n",
        "# Testing\n",
        "X = np.array([[1, 1, 0, 0], [0, 1, 0, 1]]) # XOR input\n",
        "cost, _, A2 = forwardPropagation(X, Y, parameters)\n",
        "prediction = (A2 > 0.5) * 1.0\n",
        "# print(A2)\n",
        "print(prediction)"
      ],
      "metadata": {
        "colab": {
          "base_uri": "https://localhost:8080/"
        },
        "id": "07_mBb7kUakR",
        "outputId": "d2d175ee-0230-4a87-df5b-4b532a4dc1e0"
      },
      "execution_count": null,
      "outputs": [
        {
          "output_type": "stream",
          "name": "stdout",
          "text": [
            "[[1. 0. 0. 1.]\n",
            " [1. 0. 0. 1.]]\n"
          ]
        }
      ]
    },
    {
      "cell_type": "markdown",
      "source": [
        "#DIRECTION OF THE PRICE ON NEXT DAY"
      ],
      "metadata": {
        "id": "9aK4xYodd6Y9"
      }
    },
    {
      "cell_type": "markdown",
      "source": [
        "##BiLSTM"
      ],
      "metadata": {
        "id": "GemhsN_-euqC"
      }
    },
    {
      "cell_type": "code",
      "source": [
        "import numpy as np\n",
        "from math import sqrt\n",
        "from numpy import concatenate\n",
        "\n",
        "import sklearn\n",
        "from sklearn.preprocessing import MinMaxScaler\n",
        "from sklearn.preprocessing import LabelEncoder\n",
        "from sklearn.metrics import mean_squared_error\n",
        "from sklearn.utils import shuffle\n",
        "import joblib\n",
        "\n",
        "from matplotlib import pyplot\n",
        "from matplotlib import pyplot as plt\n",
        "from matplotlib.pyplot import figure\n",
        "\n",
        "import pandas as pd\n",
        "from pandas import read_csv\n",
        "from pandas import DataFrame\n",
        "from pandas import concat\n",
        "\n",
        "\n",
        "import keras.utils\n",
        "from keras.models import Sequential\n",
        "from keras.layers import Dropout\n",
        "from keras.layers import Activation\n",
        "from keras.layers import Bidirectional\n",
        "from keras.layers import Dense\n",
        "from keras.layers import LSTM\n",
        "from keras.optimizers import Adam\n",
        "\n",
        "import tensorflow as tf\n",
        "import seaborn as sn\n",
        "# import seed\n",
        "import os\n",
        "tf.get_logger().setLevel('ERROR')"
      ],
      "metadata": {
        "id": "FUMU_d1YeDMe"
      },
      "execution_count": null,
      "outputs": []
    },
    {
      "cell_type": "code",
      "source": [
        "\"\"\"\n",
        "method to create lagged features\n",
        "\n",
        "data - data\n",
        "to_keep - number of lagged_features\n",
        "to_remove - number of days to remove\n",
        "\n",
        "\"\"\"\n",
        "def create_lagged_features(data, to_keep=1, to_remove=1):\n",
        "    variables = 1 if type(data) is list else data.shape[1]\n",
        "    df = DataFrame(data)\n",
        "    columns, names = list(), list()\n",
        "\n",
        "    for i in range(to_keep, 0, -1):\n",
        "        columns.append(df.shift(i))\n",
        "        names += [('var%d(t-%d)' % (j+1, i)) for j in range(variables)]\n",
        "\n",
        "    for i in range(0, to_remove):\n",
        "        columns.append(df.shift(-i))\n",
        "        if i == 0:\n",
        "            names += [('var%d(t)' % (j+1)) for j in range(variables)]\n",
        "        else:\n",
        "            names += [('var%d(t+%d)' % (j+1, i)) for j in range(variables)]\n",
        "\n",
        "    #put it all together\n",
        "    final = concat(columns, axis=1)\n",
        "    final.columns = names\n",
        "\n",
        "    #drop rows with NaN values\n",
        "    final.dropna(inplace=True)\n",
        "\n",
        "    return final"
      ],
      "metadata": {
        "id": "q7RQPmtSnUxn"
      },
      "execution_count": null,
      "outputs": []
    },
    {
      "cell_type": "code",
      "source": [
        "\"\"\"\n",
        "function to calculate rsi\n",
        "\n",
        "data - data\n",
        "period - RSI period\n",
        "\n",
        "\"\"\"\n",
        "def rsi(data, period: int = 14):\n",
        "\n",
        "    delta = data[\"Close\"].diff()\n",
        "\n",
        "    up, down = delta.copy(), delta.copy()\n",
        "    up[up < 0] = 0\n",
        "    down[down > 0] = 0\n",
        "\n",
        "    gain = up.ewm(com=(period - 1), min_periods=period).mean()\n",
        "    loss = down.abs().ewm(com=(period - 1), min_periods=period).mean()\n",
        "\n",
        "    RS = gain / loss\n",
        "    return 100 - (100 / (1 + RS))"
      ],
      "metadata": {
        "id": "Pgqzk121ncuB"
      },
      "execution_count": null,
      "outputs": []
    },
    {
      "cell_type": "code",
      "source": [
        "#lag granularity - days or hours\n",
        "lag_granularity = \"days\"\n",
        "#lag value\n",
        "lag = 1\n",
        "# type of analyser - TextBlob or vader\n",
        "analyser = \"vader\"\n",
        "# analyser = \"TextBlob\"\n",
        "#dataset grouped type - day or hour\n",
        "dataset_grouped_by = \"day\""
      ],
      "metadata": {
        "id": "KRyfIb5uncpH"
      },
      "execution_count": null,
      "outputs": []
    },
    {
      "cell_type": "code",
      "source": [
        "#read dataset\n",
        "import pandas as pd\n",
        "folder = \"/content/fyp/datasets/tweets_prices_volumes_sentiment/\"+analyser+\"/\"+dataset_grouped_by+\"_datasets/cleaned\"\n",
        "filename = folder+\"/final_data_lag_\"+lag_granularity+\"_\"+str(lag)+\".csv\" if (lag > 0) else folder+\"/final_data_no_lag.csv\"\n",
        "df = pd.read_csv(filename)\n"
      ],
      "metadata": {
        "id": "fTioQfRdGweV"
      },
      "execution_count": null,
      "outputs": []
    },
    {
      "cell_type": "code",
      "source": [
        "df.head()"
      ],
      "metadata": {
        "id": "4oTefEkmJ7qy",
        "colab": {
          "base_uri": "https://localhost:8080/",
          "height": 250
        },
        "outputId": "2bd3acc7-e124-4475-adae-f9368d4611bc"
      },
      "execution_count": null,
      "outputs": [
        {
          "output_type": "execute_result",
          "data": {
            "text/plain": [
              "                    DateTime    Close  Volume_(BTC)  Weighted_Price   neg_pol  \\\n",
              "0  2018-08-30 00:00:00+00:00  7027.99      5.484323     6979.227679  0.043827   \n",
              "1  2018-08-31 00:00:00+00:00  7187.23      3.694477     7097.021073  0.039833   \n",
              "2  2018-09-01 00:00:00+00:00  7275.00      2.830380     7233.487967  0.036618   \n",
              "3  2018-09-02 00:00:00+00:00  7301.01      2.130486     7260.380171  0.047145   \n",
              "4  2018-09-03 00:00:00+00:00  7357.07      3.392408     7317.186602  0.045408   \n",
              "\n",
              "    neu_pol   pos_pol  compound                                   dt  \\\n",
              "0  0.825543  0.130654  0.230801  2018-08-30 17:27:42.953691904+00:00   \n",
              "1  0.847201  0.112971  0.196773  2018-08-31 12:35:16.275116032+00:00   \n",
              "2  0.846208  0.117174  0.208065  2018-09-01 12:10:04.422492416+00:00   \n",
              "3  0.837654  0.115190  0.163561  2018-09-02 12:19:51.883408128+00:00   \n",
              "4  0.839805  0.114770  0.181093  2018-09-03 12:10:22.157143040+00:00   \n",
              "\n",
              "   Tweet_vol  \n",
              "0      557.0  \n",
              "1      902.0  \n",
              "2      818.0  \n",
              "3      860.0  \n",
              "4      980.0  "
            ],
            "text/html": [
              "\n",
              "  <div id=\"df-a8c7dd6e-2321-4631-808b-8ef71b1fcc37\">\n",
              "    <div class=\"colab-df-container\">\n",
              "      <div>\n",
              "<style scoped>\n",
              "    .dataframe tbody tr th:only-of-type {\n",
              "        vertical-align: middle;\n",
              "    }\n",
              "\n",
              "    .dataframe tbody tr th {\n",
              "        vertical-align: top;\n",
              "    }\n",
              "\n",
              "    .dataframe thead th {\n",
              "        text-align: right;\n",
              "    }\n",
              "</style>\n",
              "<table border=\"1\" class=\"dataframe\">\n",
              "  <thead>\n",
              "    <tr style=\"text-align: right;\">\n",
              "      <th></th>\n",
              "      <th>DateTime</th>\n",
              "      <th>Close</th>\n",
              "      <th>Volume_(BTC)</th>\n",
              "      <th>Weighted_Price</th>\n",
              "      <th>neg_pol</th>\n",
              "      <th>neu_pol</th>\n",
              "      <th>pos_pol</th>\n",
              "      <th>compound</th>\n",
              "      <th>dt</th>\n",
              "      <th>Tweet_vol</th>\n",
              "    </tr>\n",
              "  </thead>\n",
              "  <tbody>\n",
              "    <tr>\n",
              "      <th>0</th>\n",
              "      <td>2018-08-30 00:00:00+00:00</td>\n",
              "      <td>7027.99</td>\n",
              "      <td>5.484323</td>\n",
              "      <td>6979.227679</td>\n",
              "      <td>0.043827</td>\n",
              "      <td>0.825543</td>\n",
              "      <td>0.130654</td>\n",
              "      <td>0.230801</td>\n",
              "      <td>2018-08-30 17:27:42.953691904+00:00</td>\n",
              "      <td>557.0</td>\n",
              "    </tr>\n",
              "    <tr>\n",
              "      <th>1</th>\n",
              "      <td>2018-08-31 00:00:00+00:00</td>\n",
              "      <td>7187.23</td>\n",
              "      <td>3.694477</td>\n",
              "      <td>7097.021073</td>\n",
              "      <td>0.039833</td>\n",
              "      <td>0.847201</td>\n",
              "      <td>0.112971</td>\n",
              "      <td>0.196773</td>\n",
              "      <td>2018-08-31 12:35:16.275116032+00:00</td>\n",
              "      <td>902.0</td>\n",
              "    </tr>\n",
              "    <tr>\n",
              "      <th>2</th>\n",
              "      <td>2018-09-01 00:00:00+00:00</td>\n",
              "      <td>7275.00</td>\n",
              "      <td>2.830380</td>\n",
              "      <td>7233.487967</td>\n",
              "      <td>0.036618</td>\n",
              "      <td>0.846208</td>\n",
              "      <td>0.117174</td>\n",
              "      <td>0.208065</td>\n",
              "      <td>2018-09-01 12:10:04.422492416+00:00</td>\n",
              "      <td>818.0</td>\n",
              "    </tr>\n",
              "    <tr>\n",
              "      <th>3</th>\n",
              "      <td>2018-09-02 00:00:00+00:00</td>\n",
              "      <td>7301.01</td>\n",
              "      <td>2.130486</td>\n",
              "      <td>7260.380171</td>\n",
              "      <td>0.047145</td>\n",
              "      <td>0.837654</td>\n",
              "      <td>0.115190</td>\n",
              "      <td>0.163561</td>\n",
              "      <td>2018-09-02 12:19:51.883408128+00:00</td>\n",
              "      <td>860.0</td>\n",
              "    </tr>\n",
              "    <tr>\n",
              "      <th>4</th>\n",
              "      <td>2018-09-03 00:00:00+00:00</td>\n",
              "      <td>7357.07</td>\n",
              "      <td>3.392408</td>\n",
              "      <td>7317.186602</td>\n",
              "      <td>0.045408</td>\n",
              "      <td>0.839805</td>\n",
              "      <td>0.114770</td>\n",
              "      <td>0.181093</td>\n",
              "      <td>2018-09-03 12:10:22.157143040+00:00</td>\n",
              "      <td>980.0</td>\n",
              "    </tr>\n",
              "  </tbody>\n",
              "</table>\n",
              "</div>\n",
              "      <button class=\"colab-df-convert\" onclick=\"convertToInteractive('df-a8c7dd6e-2321-4631-808b-8ef71b1fcc37')\"\n",
              "              title=\"Convert this dataframe to an interactive table.\"\n",
              "              style=\"display:none;\">\n",
              "        \n",
              "  <svg xmlns=\"http://www.w3.org/2000/svg\" height=\"24px\"viewBox=\"0 0 24 24\"\n",
              "       width=\"24px\">\n",
              "    <path d=\"M0 0h24v24H0V0z\" fill=\"none\"/>\n",
              "    <path d=\"M18.56 5.44l.94 2.06.94-2.06 2.06-.94-2.06-.94-.94-2.06-.94 2.06-2.06.94zm-11 1L8.5 8.5l.94-2.06 2.06-.94-2.06-.94L8.5 2.5l-.94 2.06-2.06.94zm10 10l.94 2.06.94-2.06 2.06-.94-2.06-.94-.94-2.06-.94 2.06-2.06.94z\"/><path d=\"M17.41 7.96l-1.37-1.37c-.4-.4-.92-.59-1.43-.59-.52 0-1.04.2-1.43.59L10.3 9.45l-7.72 7.72c-.78.78-.78 2.05 0 2.83L4 21.41c.39.39.9.59 1.41.59.51 0 1.02-.2 1.41-.59l7.78-7.78 2.81-2.81c.8-.78.8-2.07 0-2.86zM5.41 20L4 18.59l7.72-7.72 1.47 1.35L5.41 20z\"/>\n",
              "  </svg>\n",
              "      </button>\n",
              "      \n",
              "  <style>\n",
              "    .colab-df-container {\n",
              "      display:flex;\n",
              "      flex-wrap:wrap;\n",
              "      gap: 12px;\n",
              "    }\n",
              "\n",
              "    .colab-df-convert {\n",
              "      background-color: #E8F0FE;\n",
              "      border: none;\n",
              "      border-radius: 50%;\n",
              "      cursor: pointer;\n",
              "      display: none;\n",
              "      fill: #1967D2;\n",
              "      height: 32px;\n",
              "      padding: 0 0 0 0;\n",
              "      width: 32px;\n",
              "    }\n",
              "\n",
              "    .colab-df-convert:hover {\n",
              "      background-color: #E2EBFA;\n",
              "      box-shadow: 0px 1px 2px rgba(60, 64, 67, 0.3), 0px 1px 3px 1px rgba(60, 64, 67, 0.15);\n",
              "      fill: #174EA6;\n",
              "    }\n",
              "\n",
              "    [theme=dark] .colab-df-convert {\n",
              "      background-color: #3B4455;\n",
              "      fill: #D2E3FC;\n",
              "    }\n",
              "\n",
              "    [theme=dark] .colab-df-convert:hover {\n",
              "      background-color: #434B5C;\n",
              "      box-shadow: 0px 1px 3px 1px rgba(0, 0, 0, 0.15);\n",
              "      filter: drop-shadow(0px 1px 2px rgba(0, 0, 0, 0.3));\n",
              "      fill: #FFFFFF;\n",
              "    }\n",
              "  </style>\n",
              "\n",
              "      <script>\n",
              "        const buttonEl =\n",
              "          document.querySelector('#df-a8c7dd6e-2321-4631-808b-8ef71b1fcc37 button.colab-df-convert');\n",
              "        buttonEl.style.display =\n",
              "          google.colab.kernel.accessAllowed ? 'block' : 'none';\n",
              "\n",
              "        async function convertToInteractive(key) {\n",
              "          const element = document.querySelector('#df-a8c7dd6e-2321-4631-808b-8ef71b1fcc37');\n",
              "          const dataTable =\n",
              "            await google.colab.kernel.invokeFunction('convertToInteractive',\n",
              "                                                     [key], {});\n",
              "          if (!dataTable) return;\n",
              "\n",
              "          const docLinkHtml = 'Like what you see? Visit the ' +\n",
              "            '<a target=\"_blank\" href=https://colab.research.google.com/notebooks/data_table.ipynb>data table notebook</a>'\n",
              "            + ' to learn more about interactive tables.';\n",
              "          element.innerHTML = '';\n",
              "          dataTable['output_type'] = 'display_data';\n",
              "          await google.colab.output.renderOutput(dataTable, element);\n",
              "          const docLink = document.createElement('div');\n",
              "          docLink.innerHTML = docLinkHtml;\n",
              "          element.appendChild(docLink);\n",
              "        }\n",
              "      </script>\n",
              "    </div>\n",
              "  </div>\n",
              "  "
            ]
          },
          "metadata": {},
          "execution_count": 7
        }
      ]
    },
    {
      "cell_type": "code",
      "source": [
        "df.shape\n"
      ],
      "metadata": {
        "colab": {
          "base_uri": "https://localhost:8080/"
        },
        "id": "ea3jv_9G5wxs",
        "outputId": "43ee97ce-32c9-4400-bf12-af8619c2fd9f"
      },
      "execution_count": null,
      "outputs": [
        {
          "output_type": "execute_result",
          "data": {
            "text/plain": [
              "(451, 10)"
            ]
          },
          "metadata": {},
          "execution_count": 8
        }
      ]
    },
    {
      "cell_type": "code",
      "source": [
        "df = df.groupby('DateTime').mean()"
      ],
      "metadata": {
        "id": "P7TJx9VGHMp0",
        "colab": {
          "base_uri": "https://localhost:8080/"
        },
        "outputId": "21adcf50-3fea-4dc3-b644-6051b766a363"
      },
      "execution_count": null,
      "outputs": [
        {
          "output_type": "stream",
          "name": "stderr",
          "text": [
            "<ipython-input-9-ec340b01f608>:1: FutureWarning: The default value of numeric_only in DataFrameGroupBy.mean is deprecated. In a future version, numeric_only will default to False. Either specify numeric_only or select only columns which should be valid for the function.\n",
            "  df = df.groupby('DateTime').mean()\n"
          ]
        }
      ]
    },
    {
      "cell_type": "code",
      "source": [
        "df.head()"
      ],
      "metadata": {
        "colab": {
          "base_uri": "https://localhost:8080/",
          "height": 237
        },
        "id": "Z8RYc3wbf9dh",
        "outputId": "f057fd2b-57e1-433b-c2ac-1c36e0226e7e"
      },
      "execution_count": null,
      "outputs": [
        {
          "output_type": "execute_result",
          "data": {
            "text/plain": [
              "                             Close  Volume_(BTC)  Weighted_Price   neg_pol  \\\n",
              "DateTime                                                                     \n",
              "2018-08-30 00:00:00+00:00  7027.99      5.484323     6979.227679  0.043827   \n",
              "2018-08-31 00:00:00+00:00  7187.23      3.694477     7097.021073  0.039833   \n",
              "2018-09-01 00:00:00+00:00  7275.00      2.830380     7233.487967  0.036618   \n",
              "2018-09-02 00:00:00+00:00  7301.01      2.130486     7260.380171  0.047145   \n",
              "2018-09-03 00:00:00+00:00  7357.07      3.392408     7317.186602  0.045408   \n",
              "\n",
              "                            neu_pol   pos_pol  compound  Tweet_vol  \n",
              "DateTime                                                            \n",
              "2018-08-30 00:00:00+00:00  0.825543  0.130654  0.230801      557.0  \n",
              "2018-08-31 00:00:00+00:00  0.847201  0.112971  0.196773      902.0  \n",
              "2018-09-01 00:00:00+00:00  0.846208  0.117174  0.208065      818.0  \n",
              "2018-09-02 00:00:00+00:00  0.837654  0.115190  0.163561      860.0  \n",
              "2018-09-03 00:00:00+00:00  0.839805  0.114770  0.181093      980.0  "
            ],
            "text/html": [
              "\n",
              "  <div id=\"df-e5d26528-0d27-414b-a9b9-98b1595fd9b5\">\n",
              "    <div class=\"colab-df-container\">\n",
              "      <div>\n",
              "<style scoped>\n",
              "    .dataframe tbody tr th:only-of-type {\n",
              "        vertical-align: middle;\n",
              "    }\n",
              "\n",
              "    .dataframe tbody tr th {\n",
              "        vertical-align: top;\n",
              "    }\n",
              "\n",
              "    .dataframe thead th {\n",
              "        text-align: right;\n",
              "    }\n",
              "</style>\n",
              "<table border=\"1\" class=\"dataframe\">\n",
              "  <thead>\n",
              "    <tr style=\"text-align: right;\">\n",
              "      <th></th>\n",
              "      <th>Close</th>\n",
              "      <th>Volume_(BTC)</th>\n",
              "      <th>Weighted_Price</th>\n",
              "      <th>neg_pol</th>\n",
              "      <th>neu_pol</th>\n",
              "      <th>pos_pol</th>\n",
              "      <th>compound</th>\n",
              "      <th>Tweet_vol</th>\n",
              "    </tr>\n",
              "    <tr>\n",
              "      <th>DateTime</th>\n",
              "      <th></th>\n",
              "      <th></th>\n",
              "      <th></th>\n",
              "      <th></th>\n",
              "      <th></th>\n",
              "      <th></th>\n",
              "      <th></th>\n",
              "      <th></th>\n",
              "    </tr>\n",
              "  </thead>\n",
              "  <tbody>\n",
              "    <tr>\n",
              "      <th>2018-08-30 00:00:00+00:00</th>\n",
              "      <td>7027.99</td>\n",
              "      <td>5.484323</td>\n",
              "      <td>6979.227679</td>\n",
              "      <td>0.043827</td>\n",
              "      <td>0.825543</td>\n",
              "      <td>0.130654</td>\n",
              "      <td>0.230801</td>\n",
              "      <td>557.0</td>\n",
              "    </tr>\n",
              "    <tr>\n",
              "      <th>2018-08-31 00:00:00+00:00</th>\n",
              "      <td>7187.23</td>\n",
              "      <td>3.694477</td>\n",
              "      <td>7097.021073</td>\n",
              "      <td>0.039833</td>\n",
              "      <td>0.847201</td>\n",
              "      <td>0.112971</td>\n",
              "      <td>0.196773</td>\n",
              "      <td>902.0</td>\n",
              "    </tr>\n",
              "    <tr>\n",
              "      <th>2018-09-01 00:00:00+00:00</th>\n",
              "      <td>7275.00</td>\n",
              "      <td>2.830380</td>\n",
              "      <td>7233.487967</td>\n",
              "      <td>0.036618</td>\n",
              "      <td>0.846208</td>\n",
              "      <td>0.117174</td>\n",
              "      <td>0.208065</td>\n",
              "      <td>818.0</td>\n",
              "    </tr>\n",
              "    <tr>\n",
              "      <th>2018-09-02 00:00:00+00:00</th>\n",
              "      <td>7301.01</td>\n",
              "      <td>2.130486</td>\n",
              "      <td>7260.380171</td>\n",
              "      <td>0.047145</td>\n",
              "      <td>0.837654</td>\n",
              "      <td>0.115190</td>\n",
              "      <td>0.163561</td>\n",
              "      <td>860.0</td>\n",
              "    </tr>\n",
              "    <tr>\n",
              "      <th>2018-09-03 00:00:00+00:00</th>\n",
              "      <td>7357.07</td>\n",
              "      <td>3.392408</td>\n",
              "      <td>7317.186602</td>\n",
              "      <td>0.045408</td>\n",
              "      <td>0.839805</td>\n",
              "      <td>0.114770</td>\n",
              "      <td>0.181093</td>\n",
              "      <td>980.0</td>\n",
              "    </tr>\n",
              "  </tbody>\n",
              "</table>\n",
              "</div>\n",
              "      <button class=\"colab-df-convert\" onclick=\"convertToInteractive('df-e5d26528-0d27-414b-a9b9-98b1595fd9b5')\"\n",
              "              title=\"Convert this dataframe to an interactive table.\"\n",
              "              style=\"display:none;\">\n",
              "        \n",
              "  <svg xmlns=\"http://www.w3.org/2000/svg\" height=\"24px\"viewBox=\"0 0 24 24\"\n",
              "       width=\"24px\">\n",
              "    <path d=\"M0 0h24v24H0V0z\" fill=\"none\"/>\n",
              "    <path d=\"M18.56 5.44l.94 2.06.94-2.06 2.06-.94-2.06-.94-.94-2.06-.94 2.06-2.06.94zm-11 1L8.5 8.5l.94-2.06 2.06-.94-2.06-.94L8.5 2.5l-.94 2.06-2.06.94zm10 10l.94 2.06.94-2.06 2.06-.94-2.06-.94-.94-2.06-.94 2.06-2.06.94z\"/><path d=\"M17.41 7.96l-1.37-1.37c-.4-.4-.92-.59-1.43-.59-.52 0-1.04.2-1.43.59L10.3 9.45l-7.72 7.72c-.78.78-.78 2.05 0 2.83L4 21.41c.39.39.9.59 1.41.59.51 0 1.02-.2 1.41-.59l7.78-7.78 2.81-2.81c.8-.78.8-2.07 0-2.86zM5.41 20L4 18.59l7.72-7.72 1.47 1.35L5.41 20z\"/>\n",
              "  </svg>\n",
              "      </button>\n",
              "      \n",
              "  <style>\n",
              "    .colab-df-container {\n",
              "      display:flex;\n",
              "      flex-wrap:wrap;\n",
              "      gap: 12px;\n",
              "    }\n",
              "\n",
              "    .colab-df-convert {\n",
              "      background-color: #E8F0FE;\n",
              "      border: none;\n",
              "      border-radius: 50%;\n",
              "      cursor: pointer;\n",
              "      display: none;\n",
              "      fill: #1967D2;\n",
              "      height: 32px;\n",
              "      padding: 0 0 0 0;\n",
              "      width: 32px;\n",
              "    }\n",
              "\n",
              "    .colab-df-convert:hover {\n",
              "      background-color: #E2EBFA;\n",
              "      box-shadow: 0px 1px 2px rgba(60, 64, 67, 0.3), 0px 1px 3px 1px rgba(60, 64, 67, 0.15);\n",
              "      fill: #174EA6;\n",
              "    }\n",
              "\n",
              "    [theme=dark] .colab-df-convert {\n",
              "      background-color: #3B4455;\n",
              "      fill: #D2E3FC;\n",
              "    }\n",
              "\n",
              "    [theme=dark] .colab-df-convert:hover {\n",
              "      background-color: #434B5C;\n",
              "      box-shadow: 0px 1px 3px 1px rgba(0, 0, 0, 0.15);\n",
              "      filter: drop-shadow(0px 1px 2px rgba(0, 0, 0, 0.3));\n",
              "      fill: #FFFFFF;\n",
              "    }\n",
              "  </style>\n",
              "\n",
              "      <script>\n",
              "        const buttonEl =\n",
              "          document.querySelector('#df-e5d26528-0d27-414b-a9b9-98b1595fd9b5 button.colab-df-convert');\n",
              "        buttonEl.style.display =\n",
              "          google.colab.kernel.accessAllowed ? 'block' : 'none';\n",
              "\n",
              "        async function convertToInteractive(key) {\n",
              "          const element = document.querySelector('#df-e5d26528-0d27-414b-a9b9-98b1595fd9b5');\n",
              "          const dataTable =\n",
              "            await google.colab.kernel.invokeFunction('convertToInteractive',\n",
              "                                                     [key], {});\n",
              "          if (!dataTable) return;\n",
              "\n",
              "          const docLinkHtml = 'Like what you see? Visit the ' +\n",
              "            '<a target=\"_blank\" href=https://colab.research.google.com/notebooks/data_table.ipynb>data table notebook</a>'\n",
              "            + ' to learn more about interactive tables.';\n",
              "          element.innerHTML = '';\n",
              "          dataTable['output_type'] = 'display_data';\n",
              "          await google.colab.output.renderOutput(dataTable, element);\n",
              "          const docLink = document.createElement('div');\n",
              "          docLink.innerHTML = docLinkHtml;\n",
              "          element.appendChild(docLink);\n",
              "        }\n",
              "      </script>\n",
              "    </div>\n",
              "  </div>\n",
              "  "
            ]
          },
          "metadata": {},
          "execution_count": 10
        }
      ]
    },
    {
      "cell_type": "code",
      "source": [
        "#get change label\n",
        "df[\"Change\"] = (df[\"Close\"] > df[\"Close\"].shift(1)).astype(int)\n",
        "\n",
        "add_RSI = False\n",
        "add_longMAvg = False\n",
        "add_shortMAvg = False\n",
        "\n",
        "if(add_RSI):\n",
        "    #calcualte RSI\n",
        "    RSI = 14\n",
        "    df['RSI'] = rsi(df, RSI)\n",
        "    df = df.iloc[RSI:]\n",
        "\n",
        "#calculate moving averages\n",
        "if(add_shortMAvg):\n",
        "    short_window = 9\n",
        "    df['short_mavg'] = df.rolling(window=short_window)[\"Close\"].mean()\n",
        "\n",
        "if(add_longMAvg):\n",
        "    long_window = 21\n",
        "    df[\"long_mavg\"] = df.rolling(window=long_window)[\"Close\"].mean()\n",
        "\n",
        "if(add_longMAvg):\n",
        "    df = df.iloc[long_window:]\n",
        "elif(add_RSI):\n",
        "    df = df.iloc[RSI:]\n",
        "elif(add_shortMAvg):\n",
        "    df = df.iloc[short_window:]"
      ],
      "metadata": {
        "id": "1BT8m-s-HPyC"
      },
      "execution_count": null,
      "outputs": []
    },
    {
      "cell_type": "code",
      "source": [
        "#keep only wanted columns\n",
        "features = ['Change', 'subjectivity', 'polarity','Tweet_vol','Volume_(BTC)'] if analyser == \"Textblob\" else ['Change', 'Close', 'pos_pol', 'neg_pol', 'Tweet_vol']\n",
        "\n",
        "if(add_RSI):\n",
        "    features.append(\"RSI\")\n",
        "\n",
        "if(add_longMAvg):\n",
        "    features.append(\"long_mavg\")\n",
        "\n",
        "if(add_shortMAvg):\n",
        "    features.append(\"short_mavg\")\n",
        "\n",
        "df = df[features]\n",
        "\n"
      ],
      "metadata": {
        "id": "cSbGr7TgHSxw"
      },
      "execution_count": null,
      "outputs": []
    },
    {
      "cell_type": "code",
      "source": [
        "#plot correlation matrix\n",
        "sn.heatmap(df.corr(), annot=True)\n",
        "plt.show()"
      ],
      "metadata": {
        "colab": {
          "base_uri": "https://localhost:8080/",
          "height": 435
        },
        "id": "0p2uo5EkHUvV",
        "outputId": "0b8280b2-55bc-4777-fc8e-6f4b504f4745"
      },
      "execution_count": null,
      "outputs": [
        {
          "output_type": "display_data",
          "data": {
            "text/plain": [
              "<Figure size 640x480 with 2 Axes>"
            ],
            "image/png": "[encoded data removed]"
          },
          "metadata": {}
        }
      ]
    },
    {
      "cell_type": "code",
      "source": [
        "#creating copy so that data is not loaded once again\n",
        "df_copy = df.copy()"
      ],
      "metadata": {
        "id": "h9Gal9_XIwjk"
      },
      "execution_count": null,
      "outputs": []
    },
    {
      "cell_type": "code",
      "source": [
        "\n",
        "\n",
        "#number of previous records to consider for every example\n",
        "n_lag = 7\n",
        "#number of features\n",
        "n_features = len(features)\n",
        "#calculate total_features\n",
        "total_features = n_lag*n_features\n",
        "\n",
        "if(total_features == 0):\n",
        "    total_features = n_features\n",
        "\n"
      ],
      "metadata": {
        "id": "9KYQW9vzIwft"
      },
      "execution_count": null,
      "outputs": []
    },
    {
      "cell_type": "code",
      "source": [
        "\n",
        "\n",
        "#add lagged data to records\n",
        "data_with_lagged = create_lagged_features(df_copy, n_lag, 1)\n",
        "data_with_lagged = data_with_lagged.reset_index()\n",
        "data_with_lagged = data_with_lagged.drop(['DateTime'], axis=1)\n",
        "\n"
      ],
      "metadata": {
        "id": "I_KAetCzIwcX"
      },
      "execution_count": null,
      "outputs": []
    },
    {
      "cell_type": "code",
      "source": [
        "np.random.seed(1)\n",
        "#shuffle times\n",
        "shuffle_times = 5;\n",
        "for j in range(0, shuffle_times+1):\n",
        "    data_with_lagged = shuffle(data_with_lagged)\n"
      ],
      "metadata": {
        "id": "hi0y_n6tIwZW"
      },
      "execution_count": null,
      "outputs": []
    },
    {
      "cell_type": "code",
      "source": [
        "#divide df into train and test\n",
        "train_ratio = 0.85\n",
        "data_len = len(data_with_lagged)\n",
        "train_size = int(data_len*train_ratio)\n",
        "\n",
        "train = data_with_lagged.iloc[:train_size]\n",
        "test = data_with_lagged.iloc[train_size:]"
      ],
      "metadata": {
        "id": "q0TxhYowIwVD"
      },
      "execution_count": null,
      "outputs": []
    },
    {
      "cell_type": "code",
      "source": [
        "\n",
        "\n",
        "#prepare labels\n",
        "train_y = train[\"var1(t)\"].values\n",
        "test_y = test[\"var1(t)\"].values\n",
        "\n",
        "train_y = train_y.reshape(len(train_y), 1)\n",
        "test_y = test_y.reshape(len(test_y), 1)\n",
        "\n"
      ],
      "metadata": {
        "id": "G_5OTrCkIwQU"
      },
      "execution_count": null,
      "outputs": []
    },
    {
      "cell_type": "code",
      "source": [
        "#normalise features\n",
        "xscaler = MinMaxScaler(feature_range=(0, 1))\n",
        "train = xscaler.fit_transform(train)\n",
        "test = xscaler.transform(test)\n",
        "joblib.dump(xscaler, 'content/models/bilstm_trend/saved/scaler.pkl')"
      ],
      "metadata": {
        "colab": {
          "base_uri": "https://localhost:8080/",
          "height": 322
        },
        "id": "C2A2WzuDI_P7",
        "outputId": "34169ced-5dd8-49c4-bbfc-613eb38bb881"
      },
      "execution_count": null,
      "outputs": [
        {
          "output_type": "error",
          "ename": "FileNotFoundError",
          "evalue": "ignored",
          "traceback": [
            "\u001b[0;31m---------------------------------------------------------------------------\u001b[0m",
            "\u001b[0;31mFileNotFoundError\u001b[0m                         Traceback (most recent call last)",
            "\u001b[0;32m<ipython-input-20-d33a45850a5b>\u001b[0m in \u001b[0;36m<cell line: 5>\u001b[0;34m()\u001b[0m\n\u001b[1;32m      3\u001b[0m \u001b[0mtrain\u001b[0m \u001b[0;34m=\u001b[0m \u001b[0mxscaler\u001b[0m\u001b[0;34m.\u001b[0m\u001b[0mfit_transform\u001b[0m\u001b[0;34m(\u001b[0m\u001b[0mtrain\u001b[0m\u001b[0;34m)\u001b[0m\u001b[0;34m\u001b[0m\u001b[0;34m\u001b[0m\u001b[0m\n\u001b[1;32m      4\u001b[0m \u001b[0mtest\u001b[0m \u001b[0;34m=\u001b[0m \u001b[0mxscaler\u001b[0m\u001b[0;34m.\u001b[0m\u001b[0mtransform\u001b[0m\u001b[0;34m(\u001b[0m\u001b[0mtest\u001b[0m\u001b[0;34m)\u001b[0m\u001b[0;34m\u001b[0m\u001b[0;34m\u001b[0m\u001b[0m\n\u001b[0;32m----> 5\u001b[0;31m \u001b[0mjoblib\u001b[0m\u001b[0;34m.\u001b[0m\u001b[0mdump\u001b[0m\u001b[0;34m(\u001b[0m\u001b[0mxscaler\u001b[0m\u001b[0;34m,\u001b[0m \u001b[0;34m'content/models/bilstm_trend/saved/scaler.pkl'\u001b[0m\u001b[0;34m)\u001b[0m\u001b[0;34m\u001b[0m\u001b[0;34m\u001b[0m\u001b[0m\n\u001b[0m",
            "\u001b[0;32m/usr/local/lib/python3.9/dist-packages/joblib/numpy_pickle.py\u001b[0m in \u001b[0;36mdump\u001b[0;34m(value, filename, compress, protocol, cache_size)\u001b[0m\n\u001b[1;32m    550\u001b[0m             \u001b[0mNumpyPickler\u001b[0m\u001b[0;34m(\u001b[0m\u001b[0mf\u001b[0m\u001b[0;34m,\u001b[0m \u001b[0mprotocol\u001b[0m\u001b[0;34m=\u001b[0m\u001b[0mprotocol\u001b[0m\u001b[0;34m)\u001b[0m\u001b[0;34m.\u001b[0m\u001b[0mdump\u001b[0m\u001b[0;34m(\u001b[0m\u001b[0mvalue\u001b[0m\u001b[0;34m)\u001b[0m\u001b[0;34m\u001b[0m\u001b[0;34m\u001b[0m\u001b[0m\n\u001b[1;32m    551\u001b[0m     \u001b[0;32melif\u001b[0m \u001b[0mis_filename\u001b[0m\u001b[0;34m:\u001b[0m\u001b[0;34m\u001b[0m\u001b[0;34m\u001b[0m\u001b[0m\n\u001b[0;32m--> 552\u001b[0;31m         \u001b[0;32mwith\u001b[0m \u001b[0mopen\u001b[0m\u001b[0;34m(\u001b[0m\u001b[0mfilename\u001b[0m\u001b[0;34m,\u001b[0m \u001b[0;34m'wb'\u001b[0m\u001b[0;34m)\u001b[0m \u001b[0;32mas\u001b[0m \u001b[0mf\u001b[0m\u001b[0;34m:\u001b[0m\u001b[0;34m\u001b[0m\u001b[0;34m\u001b[0m\u001b[0m\n\u001b[0m\u001b[1;32m    553\u001b[0m             \u001b[0mNumpyPickler\u001b[0m\u001b[0;34m(\u001b[0m\u001b[0mf\u001b[0m\u001b[0;34m,\u001b[0m \u001b[0mprotocol\u001b[0m\u001b[0;34m=\u001b[0m\u001b[0mprotocol\u001b[0m\u001b[0;34m)\u001b[0m\u001b[0;34m.\u001b[0m\u001b[0mdump\u001b[0m\u001b[0;34m(\u001b[0m\u001b[0mvalue\u001b[0m\u001b[0;34m)\u001b[0m\u001b[0;34m\u001b[0m\u001b[0;34m\u001b[0m\u001b[0m\n\u001b[1;32m    554\u001b[0m     \u001b[0;32melse\u001b[0m\u001b[0;34m:\u001b[0m\u001b[0;34m\u001b[0m\u001b[0;34m\u001b[0m\u001b[0m\n",
            "\u001b[0;31mFileNotFoundError\u001b[0m: [Errno 2] No such file or directory: 'content/models/bilstm_trend/saved/scaler.pkl'"
          ]
        }
      ]
    },
    {
      "cell_type": "code",
      "source": [
        "\n",
        "\n",
        "#prepare data\n",
        "train_labels = train_y\n",
        "test_labels = test_y\n",
        "\n"
      ],
      "metadata": {
        "id": "rO7vQ3gPI_NR"
      },
      "execution_count": null,
      "outputs": []
    },
    {
      "cell_type": "code",
      "source": [
        "\n",
        "\n",
        "#remove the last set of values(data of time to be predicted)\n",
        "train = train[:, :total_features]\n",
        "test = test[:, :total_features]\n",
        "\n"
      ],
      "metadata": {
        "id": "yKStgcUMI_Kk"
      },
      "execution_count": null,
      "outputs": []
    },
    {
      "cell_type": "code",
      "source": [
        "\n",
        "\n",
        "#keep only prices array\n",
        "train_X, train_y = train[:, :total_features], train_y[:, -1]\n",
        "test_X, test_y = test[:, :total_features], test_y[:, -1]\n",
        "\n"
      ],
      "metadata": {
        "id": "4PDazi1eJIiX"
      },
      "execution_count": null,
      "outputs": []
    },
    {
      "cell_type": "code",
      "source": [
        "\n",
        "\n",
        "# reshape input to be 3D [samples, timesteps, features]\n",
        "train_X = train_X.reshape((train_X.shape[0], n_lag, n_features))\n",
        "test_X = test_X.reshape((test_X.shape[0], n_lag, n_features))\n",
        "\n"
      ],
      "metadata": {
        "id": "3JvYItfdJIfS"
      },
      "execution_count": null,
      "outputs": []
    },
    {
      "cell_type": "code",
      "source": [
        "\n",
        "\n",
        "#set labels for training data to categorical\n",
        "train_y = keras.utils.to_categorical(train_y, 2)\n",
        "\n"
      ],
      "metadata": {
        "id": "JN6So9nNJIb0"
      },
      "execution_count": null,
      "outputs": []
    },
    {
      "cell_type": "code",
      "source": [
        "np.random.seed(1)\n",
        "tf.random.set_seed(1)\n",
        "\n",
        "# design network\n",
        "model = Sequential()\n",
        "neurons = 64\n",
        "epochs = 10000\n",
        "dropout = 0.25\n",
        "batch_size = 80\n",
        "activ_func = \"linear\"\n",
        "\n",
        "model.add(Bidirectional(LSTM(neurons, return_sequences=True, input_shape=(train_X.shape[1], train_X.shape[2]), activation=activ_func)))\n",
        "model.add(Dropout(dropout))\n",
        "\n",
        "model.add(Bidirectional(LSTM(neurons, return_sequences=False, activation=activ_func)))\n",
        "model.add(Dropout(dropout))\n",
        "\n",
        "model.add(Dense(2, activation=\"softmax\"))\n",
        "model.compile(loss='categorical_crossentropy', optimizer='adam', metrics=['accuracy'])"
      ],
      "metadata": {
        "id": "3kGANWXnJIYy"
      },
      "execution_count": null,
      "outputs": []
    },
    {
      "cell_type": "code",
      "source": [
        "# early stopping\n",
        "callback = keras.callbacks.EarlyStopping(monitor='val_loss', patience =50)\n",
        "\n",
        "# fit network\n",
        "history = model.fit(train_X, train_y, epochs=10000, batch_size=batch_size, verbose=2, shuffle=True,validation_split=0.2, callbacks=[callback])\n"
      ],
      "metadata": {
        "id": "tP8wdrn7JIVI",
        "colab": {
          "base_uri": "https://localhost:8080/"
        },
        "outputId": "1fb1e98e-33ac-4876-a076-14a15c29b6c5"
      },
      "execution_count": null,
      "outputs": [
        {
          "output_type": "stream",
          "name": "stdout",
          "text": [
            "Epoch 1/10000\n",
            "4/4 - 7s - loss: 0.6975 - accuracy: 0.4983 - val_loss: 0.6852 - val_accuracy: 0.5526 - 7s/epoch - 2s/step\n",
            "Epoch 2/10000\n",
            "4/4 - 0s - loss: 0.6885 - accuracy: 0.5282 - val_loss: 0.6836 - val_accuracy: 0.5526 - 156ms/epoch - 39ms/step\n",
            "Epoch 3/10000\n",
            "4/4 - 0s - loss: 0.6939 - accuracy: 0.5249 - val_loss: 0.6830 - val_accuracy: 0.5526 - 160ms/epoch - 40ms/step\n",
            "Epoch 4/10000\n",
            "4/4 - 0s - loss: 0.6873 - accuracy: 0.5349 - val_loss: 0.6821 - val_accuracy: 0.5526 - 144ms/epoch - 36ms/step\n",
            "Epoch 5/10000\n",
            "4/4 - 0s - loss: 0.6873 - accuracy: 0.5415 - val_loss: 0.6829 - val_accuracy: 0.5658 - 153ms/epoch - 38ms/step\n",
            "Epoch 6/10000\n",
            "4/4 - 0s - loss: 0.6900 - accuracy: 0.4950 - val_loss: 0.6805 - val_accuracy: 0.6316 - 148ms/epoch - 37ms/step\n",
            "Epoch 7/10000\n",
            "4/4 - 0s - loss: 0.6881 - accuracy: 0.5316 - val_loss: 0.6795 - val_accuracy: 0.5526 - 168ms/epoch - 42ms/step\n",
            "Epoch 8/10000\n",
            "4/4 - 0s - loss: 0.6858 - accuracy: 0.5415 - val_loss: 0.6808 - val_accuracy: 0.5526 - 161ms/epoch - 40ms/step\n",
            "Epoch 9/10000\n",
            "4/4 - 0s - loss: 0.6863 - accuracy: 0.5714 - val_loss: 0.6821 - val_accuracy: 0.5658 - 172ms/epoch - 43ms/step\n",
            "Epoch 10/10000\n",
            "4/4 - 0s - loss: 0.6862 - accuracy: 0.5449 - val_loss: 0.6785 - val_accuracy: 0.5789 - 156ms/epoch - 39ms/step\n",
            "Epoch 11/10000\n",
            "4/4 - 0s - loss: 0.6825 - accuracy: 0.5648 - val_loss: 0.6774 - val_accuracy: 0.5658 - 160ms/epoch - 40ms/step\n",
            "Epoch 12/10000\n",
            "4/4 - 0s - loss: 0.6849 - accuracy: 0.5648 - val_loss: 0.6757 - val_accuracy: 0.5789 - 148ms/epoch - 37ms/step\n",
            "Epoch 13/10000\n",
            "4/4 - 0s - loss: 0.6820 - accuracy: 0.5748 - val_loss: 0.6773 - val_accuracy: 0.5789 - 150ms/epoch - 37ms/step\n",
            "Epoch 14/10000\n",
            "4/4 - 0s - loss: 0.6806 - accuracy: 0.5681 - val_loss: 0.6806 - val_accuracy: 0.5526 - 151ms/epoch - 38ms/step\n",
            "Epoch 15/10000\n",
            "4/4 - 0s - loss: 0.6837 - accuracy: 0.5515 - val_loss: 0.6767 - val_accuracy: 0.5789 - 147ms/epoch - 37ms/step\n",
            "Epoch 16/10000\n",
            "4/4 - 0s - loss: 0.6864 - accuracy: 0.5482 - val_loss: 0.6759 - val_accuracy: 0.5658 - 170ms/epoch - 42ms/step\n",
            "Epoch 17/10000\n",
            "4/4 - 0s - loss: 0.6819 - accuracy: 0.5581 - val_loss: 0.6753 - val_accuracy: 0.5526 - 148ms/epoch - 37ms/step\n",
            "Epoch 18/10000\n",
            "4/4 - 0s - loss: 0.6829 - accuracy: 0.5482 - val_loss: 0.6765 - val_accuracy: 0.5658 - 174ms/epoch - 43ms/step\n",
            "Epoch 19/10000\n",
            "4/4 - 0s - loss: 0.6781 - accuracy: 0.5814 - val_loss: 0.6744 - val_accuracy: 0.5658 - 147ms/epoch - 37ms/step\n",
            "Epoch 20/10000\n",
            "4/4 - 0s - loss: 0.6808 - accuracy: 0.5449 - val_loss: 0.6748 - val_accuracy: 0.5658 - 143ms/epoch - 36ms/step\n",
            "Epoch 21/10000\n",
            "4/4 - 0s - loss: 0.6750 - accuracy: 0.5781 - val_loss: 0.6764 - val_accuracy: 0.5658 - 154ms/epoch - 38ms/step\n",
            "Epoch 22/10000\n",
            "4/4 - 0s - loss: 0.6792 - accuracy: 0.5449 - val_loss: 0.6776 - val_accuracy: 0.5789 - 158ms/epoch - 39ms/step\n",
            "Epoch 23/10000\n",
            "4/4 - 0s - loss: 0.6732 - accuracy: 0.5781 - val_loss: 0.6767 - val_accuracy: 0.5526 - 148ms/epoch - 37ms/step\n",
            "Epoch 24/10000\n",
            "4/4 - 0s - loss: 0.6778 - accuracy: 0.5980 - val_loss: 0.6760 - val_accuracy: 0.5789 - 144ms/epoch - 36ms/step\n",
            "Epoch 25/10000\n",
            "4/4 - 0s - loss: 0.6740 - accuracy: 0.5515 - val_loss: 0.6776 - val_accuracy: 0.5263 - 162ms/epoch - 40ms/step\n",
            "Epoch 26/10000\n",
            "4/4 - 0s - loss: 0.6704 - accuracy: 0.5615 - val_loss: 0.6775 - val_accuracy: 0.5395 - 149ms/epoch - 37ms/step\n",
            "Epoch 27/10000\n",
            "4/4 - 0s - loss: 0.6699 - accuracy: 0.5781 - val_loss: 0.6776 - val_accuracy: 0.5658 - 141ms/epoch - 35ms/step\n",
            "Epoch 28/10000\n",
            "4/4 - 0s - loss: 0.6731 - accuracy: 0.5748 - val_loss: 0.6790 - val_accuracy: 0.5263 - 151ms/epoch - 38ms/step\n",
            "Epoch 29/10000\n",
            "4/4 - 0s - loss: 0.6708 - accuracy: 0.5914 - val_loss: 0.6811 - val_accuracy: 0.5395 - 158ms/epoch - 39ms/step\n",
            "Epoch 30/10000\n",
            "4/4 - 0s - loss: 0.6708 - accuracy: 0.5781 - val_loss: 0.6828 - val_accuracy: 0.5395 - 146ms/epoch - 36ms/step\n",
            "Epoch 31/10000\n",
            "4/4 - 0s - loss: 0.6721 - accuracy: 0.5615 - val_loss: 0.6845 - val_accuracy: 0.5921 - 147ms/epoch - 37ms/step\n",
            "Epoch 32/10000\n",
            "4/4 - 0s - loss: 0.6677 - accuracy: 0.5648 - val_loss: 0.6835 - val_accuracy: 0.5526 - 149ms/epoch - 37ms/step\n",
            "Epoch 33/10000\n",
            "4/4 - 0s - loss: 0.6663 - accuracy: 0.5947 - val_loss: 0.6842 - val_accuracy: 0.5658 - 141ms/epoch - 35ms/step\n",
            "Epoch 34/10000\n",
            "4/4 - 0s - loss: 0.6625 - accuracy: 0.6146 - val_loss: 0.6881 - val_accuracy: 0.5789 - 148ms/epoch - 37ms/step\n",
            "Epoch 35/10000\n",
            "4/4 - 0s - loss: 0.6612 - accuracy: 0.5814 - val_loss: 0.6871 - val_accuracy: 0.5658 - 186ms/epoch - 46ms/step\n",
            "Epoch 36/10000\n",
            "4/4 - 0s - loss: 0.6667 - accuracy: 0.6080 - val_loss: 0.6897 - val_accuracy: 0.5789 - 150ms/epoch - 37ms/step\n",
            "Epoch 37/10000\n",
            "4/4 - 0s - loss: 0.6639 - accuracy: 0.5980 - val_loss: 0.6890 - val_accuracy: 0.5658 - 153ms/epoch - 38ms/step\n",
            "Epoch 38/10000\n",
            "4/4 - 0s - loss: 0.6608 - accuracy: 0.5814 - val_loss: 0.6917 - val_accuracy: 0.5658 - 161ms/epoch - 40ms/step\n",
            "Epoch 39/10000\n",
            "4/4 - 0s - loss: 0.6574 - accuracy: 0.5681 - val_loss: 0.6906 - val_accuracy: 0.5526 - 159ms/epoch - 40ms/step\n",
            "Epoch 40/10000\n",
            "4/4 - 0s - loss: 0.6593 - accuracy: 0.5914 - val_loss: 0.6953 - val_accuracy: 0.5789 - 144ms/epoch - 36ms/step\n",
            "Epoch 41/10000\n",
            "4/4 - 0s - loss: 0.6545 - accuracy: 0.6013 - val_loss: 0.6956 - val_accuracy: 0.5789 - 251ms/epoch - 63ms/step\n",
            "Epoch 42/10000\n",
            "4/4 - 0s - loss: 0.6789 - accuracy: 0.5748 - val_loss: 0.6984 - val_accuracy: 0.5395 - 299ms/epoch - 75ms/step\n",
            "Epoch 43/10000\n",
            "4/4 - 0s - loss: 0.6578 - accuracy: 0.6113 - val_loss: 0.7013 - val_accuracy: 0.5395 - 291ms/epoch - 73ms/step\n",
            "Epoch 44/10000\n",
            "4/4 - 0s - loss: 0.6573 - accuracy: 0.6113 - val_loss: 0.7026 - val_accuracy: 0.6053 - 288ms/epoch - 72ms/step\n",
            "Epoch 45/10000\n",
            "4/4 - 0s - loss: 0.6688 - accuracy: 0.5847 - val_loss: 0.6956 - val_accuracy: 0.5658 - 296ms/epoch - 74ms/step\n",
            "Epoch 46/10000\n",
            "4/4 - 0s - loss: 0.6505 - accuracy: 0.5914 - val_loss: 0.7006 - val_accuracy: 0.5000 - 287ms/epoch - 72ms/step\n",
            "Epoch 47/10000\n",
            "4/4 - 0s - loss: 0.6650 - accuracy: 0.5980 - val_loss: 0.6967 - val_accuracy: 0.5526 - 289ms/epoch - 72ms/step\n",
            "Epoch 48/10000\n",
            "4/4 - 0s - loss: 0.6517 - accuracy: 0.6246 - val_loss: 0.7023 - val_accuracy: 0.5658 - 294ms/epoch - 73ms/step\n",
            "Epoch 49/10000\n",
            "4/4 - 0s - loss: 0.6610 - accuracy: 0.5748 - val_loss: 0.6962 - val_accuracy: 0.5526 - 287ms/epoch - 72ms/step\n",
            "Epoch 50/10000\n",
            "4/4 - 0s - loss: 0.6566 - accuracy: 0.5814 - val_loss: 0.6965 - val_accuracy: 0.5000 - 282ms/epoch - 70ms/step\n",
            "Epoch 51/10000\n",
            "4/4 - 0s - loss: 0.6503 - accuracy: 0.5947 - val_loss: 0.7005 - val_accuracy: 0.5263 - 157ms/epoch - 39ms/step\n",
            "Epoch 52/10000\n",
            "4/4 - 0s - loss: 0.6599 - accuracy: 0.5748 - val_loss: 0.7021 - val_accuracy: 0.5263 - 146ms/epoch - 36ms/step\n",
            "Epoch 53/10000\n",
            "4/4 - 0s - loss: 0.6544 - accuracy: 0.5781 - val_loss: 0.7015 - val_accuracy: 0.4737 - 179ms/epoch - 45ms/step\n",
            "Epoch 54/10000\n",
            "4/4 - 0s - loss: 0.6518 - accuracy: 0.5947 - val_loss: 0.7081 - val_accuracy: 0.5395 - 163ms/epoch - 41ms/step\n",
            "Epoch 55/10000\n",
            "4/4 - 0s - loss: 0.6567 - accuracy: 0.5748 - val_loss: 0.7094 - val_accuracy: 0.5395 - 149ms/epoch - 37ms/step\n",
            "Epoch 56/10000\n",
            "4/4 - 0s - loss: 0.6537 - accuracy: 0.5980 - val_loss: 0.7111 - val_accuracy: 0.5000 - 161ms/epoch - 40ms/step\n",
            "Epoch 57/10000\n",
            "4/4 - 0s - loss: 0.6574 - accuracy: 0.6213 - val_loss: 0.7086 - val_accuracy: 0.4868 - 155ms/epoch - 39ms/step\n",
            "Epoch 58/10000\n",
            "4/4 - 0s - loss: 0.6559 - accuracy: 0.5914 - val_loss: 0.7143 - val_accuracy: 0.5526 - 146ms/epoch - 37ms/step\n",
            "Epoch 59/10000\n",
            "4/4 - 0s - loss: 0.6467 - accuracy: 0.5914 - val_loss: 0.7080 - val_accuracy: 0.5132 - 155ms/epoch - 39ms/step\n",
            "Epoch 60/10000\n",
            "4/4 - 0s - loss: 0.6473 - accuracy: 0.5947 - val_loss: 0.7077 - val_accuracy: 0.4737 - 163ms/epoch - 41ms/step\n",
            "Epoch 61/10000\n",
            "4/4 - 0s - loss: 0.6500 - accuracy: 0.5880 - val_loss: 0.7096 - val_accuracy: 0.4868 - 146ms/epoch - 36ms/step\n",
            "Epoch 62/10000\n",
            "4/4 - 0s - loss: 0.6492 - accuracy: 0.5847 - val_loss: 0.7140 - val_accuracy: 0.4737 - 145ms/epoch - 36ms/step\n",
            "Epoch 63/10000\n",
            "4/4 - 0s - loss: 0.6554 - accuracy: 0.5714 - val_loss: 0.7144 - val_accuracy: 0.4737 - 153ms/epoch - 38ms/step\n",
            "Epoch 64/10000\n",
            "4/4 - 0s - loss: 0.6576 - accuracy: 0.5847 - val_loss: 0.7102 - val_accuracy: 0.4737 - 146ms/epoch - 37ms/step\n",
            "Epoch 65/10000\n",
            "4/4 - 0s - loss: 0.6538 - accuracy: 0.6146 - val_loss: 0.7116 - val_accuracy: 0.5395 - 149ms/epoch - 37ms/step\n",
            "Epoch 66/10000\n",
            "4/4 - 0s - loss: 0.6601 - accuracy: 0.5415 - val_loss: 0.7155 - val_accuracy: 0.5658 - 172ms/epoch - 43ms/step\n",
            "Epoch 67/10000\n",
            "4/4 - 0s - loss: 0.6503 - accuracy: 0.5681 - val_loss: 0.7052 - val_accuracy: 0.4868 - 151ms/epoch - 38ms/step\n",
            "Epoch 68/10000\n",
            "4/4 - 0s - loss: 0.6500 - accuracy: 0.5914 - val_loss: 0.7062 - val_accuracy: 0.4868 - 145ms/epoch - 36ms/step\n",
            "Epoch 69/10000\n",
            "4/4 - 0s - loss: 0.6516 - accuracy: 0.5814 - val_loss: 0.7112 - val_accuracy: 0.5395 - 143ms/epoch - 36ms/step\n"
          ]
        }
      ]
    },
    {
      "cell_type": "code",
      "source": [
        "#save model\n",
        "model.save(\"saved/ckpt\")"
      ],
      "metadata": {
        "id": "pc0hs5iSJISF",
        "colab": {
          "base_uri": "https://localhost:8080/"
        },
        "outputId": "856af140-eeb4-4724-a879-0fd3d43db242"
      },
      "execution_count": null,
      "outputs": [
        {
          "output_type": "stream",
          "name": "stderr",
          "text": [
            "WARNING:absl:Found untraced functions such as _update_step_xla while saving (showing 1 of 1). These functions will not be directly callable after loading.\n"
          ]
        }
      ]
    },
    {
      "cell_type": "code",
      "source": [
        "#save model\n",
        "model_file = 'model.png'\n",
        "tf.keras.utils.plot_model(model, to_file=model_file, show_shapes=True)\n"
      ],
      "metadata": {
        "id": "FBrZqywaJfJz",
        "colab": {
          "base_uri": "https://localhost:8080/",
          "height": 644
        },
        "outputId": "bbf02b66-988f-4420-f876-04dbfa645bc8"
      },
      "execution_count": null,
      "outputs": [
        {
          "output_type": "execute_result",
          "data": {
            "image/png": "[encoded data removed]",
            "text/plain": [
              "<IPython.core.display.Image object>"
            ]
          },
          "metadata": {},
          "execution_count": 29
        }
      ]
    },
    {
      "cell_type": "code",
      "source": [
        "#plot loss graph\n",
        "plt.plot(history.history['loss'], label='train')\n",
        "plt.plot(history.history['val_loss'], label='test')\n",
        "plt.legend()\n",
        "plt.title(\"Loss graph\")\n",
        "plt.show()"
      ],
      "metadata": {
        "id": "PucK_LzTJe05",
        "colab": {
          "base_uri": "https://localhost:8080/",
          "height": 452
        },
        "outputId": "f735685a-c8c1-46dc-e391-d2c6404a820e"
      },
      "execution_count": null,
      "outputs": [
        {
          "output_type": "display_data",
          "data": {
            "text/plain": [
              "<Figure size 640x480 with 1 Axes>"
            ],
            "image/png": "[encoded data removed]"
          },
          "metadata": {}
        }
      ]
    },
    {
      "cell_type": "code",
      "source": [
        "#plot training and validation accuracy\n",
        "loss_train = history.history['accuracy']\n",
        "loss_val = history.history['val_accuracy']\n",
        "epochs = range(1,len(loss_val) + 1)\n",
        "plt.plot(epochs, loss_train, 'g', label='Training accuracy')\n",
        "plt.plot(epochs, loss_val, 'b', label='validation accuracy')\n",
        "plt.title('Training and Validation accuracy')\n",
        "plt.xlabel('Epochs')\n",
        "plt.ylabel('Accuracy')\n",
        "plt.legend()\n",
        "plt.show()"
      ],
      "metadata": {
        "id": "duTt0xH8JexO",
        "colab": {
          "base_uri": "https://localhost:8080/",
          "height": 472
        },
        "outputId": "4f2cd971-e722-4326-e465-d5a7ac1f1cbd"
      },
      "execution_count": null,
      "outputs": [
        {
          "output_type": "display_data",
          "data": {
            "text/plain": [
              "<Figure size 640x480 with 1 Axes>"
            ],
            "image/png": "[encoded data removed]"
          },
          "metadata": {}
        }
      ]
    },
    {
      "cell_type": "code",
      "source": [
        "#reshape\n",
        "test_X = test_X.reshape((test_X.shape[0], n_lag, n_features))\n",
        "\n",
        "#predict values for test data\n",
        "pred = model.predict(test_X)\n",
        "\n",
        "#reshape again\n",
        "test_X = test_X.reshape((test_X.shape[0], n_lag* n_features,))"
      ],
      "metadata": {
        "id": "BCT2s91JJetc",
        "colab": {
          "base_uri": "https://localhost:8080/"
        },
        "outputId": "1cc903f4-60b1-4bb4-c73a-68a0007976ab"
      },
      "execution_count": null,
      "outputs": [
        {
          "output_type": "stream",
          "name": "stdout",
          "text": [
            "3/3 [==============================] - 1s 6ms/step\n"
          ]
        }
      ]
    },
    {
      "cell_type": "code",
      "source": [
        "#change back from categorical\n",
        "pred = np.argmax(pred, axis=1)"
      ],
      "metadata": {
        "id": "-v18Z_thJeqJ"
      },
      "execution_count": null,
      "outputs": []
    },
    {
      "cell_type": "code",
      "source": [
        "#calculate accuracy\n",
        "prices = pd.DataFrame()\n",
        "prices[\"Actual\"] = test_y\n",
        "prices[\"Predicted\"] = pred\n",
        "\n",
        "prices[\"Correct\"] = (prices[\"Actual\"] - prices[\"Predicted\"]) == 0\n",
        "incorrect = prices.loc[prices['Correct'] == False]\n",
        "incorrect_len = len(incorrect)\n",
        "prices_len = len(prices)\n",
        "\n",
        "print(\"Accuracy = \",((prices_len-incorrect_len)/prices_len))\n"
      ],
      "metadata": {
        "id": "HRNvgnL8Jemu",
        "colab": {
          "base_uri": "https://localhost:8080/"
        },
        "outputId": "3526eac4-a979-4667-c181-7da08ead5ce4"
      },
      "execution_count": null,
      "outputs": [
        {
          "output_type": "stream",
          "name": "stdout",
          "text": [
            "Accuracy =  0.6865671641791045\n"
          ]
        }
      ]
    },
    {
      "cell_type": "code",
      "source": [
        "sklearn.metrics.classification_report(test_y, pred, zero_division=0,output_dict=True)"
      ],
      "metadata": {
        "id": "43orGrdXJxy9",
        "colab": {
          "base_uri": "https://localhost:8080/"
        },
        "outputId": "f31345b4-45bd-4790-9f82-755be34ab1b5"
      },
      "execution_count": null,
      "outputs": [
        {
          "output_type": "execute_result",
          "data": {
            "text/plain": [
              "{'0': {'precision': 0.8076923076923077,\n",
              "  'recall': 0.5675675675675675,\n",
              "  'f1-score': 0.6666666666666666,\n",
              "  'support': 37},\n",
              " '1': {'precision': 0.6097560975609756,\n",
              "  'recall': 0.8333333333333334,\n",
              "  'f1-score': 0.7042253521126761,\n",
              "  'support': 30},\n",
              " 'accuracy': 0.6865671641791045,\n",
              " 'macro avg': {'precision': 0.7087242026266416,\n",
              "  'recall': 0.7004504504504505,\n",
              "  'f1-score': 0.6854460093896714,\n",
              "  'support': 67},\n",
              " 'weighted avg': {'precision': 0.719064153902159,\n",
              "  'recall': 0.6865671641791045,\n",
              "  'f1-score': 0.6834839885081634,\n",
              "  'support': 67}}"
            ]
          },
          "metadata": {},
          "execution_count": 35
        }
      ]
    },
    {
      "cell_type": "markdown",
      "source": [
        "##LSTM"
      ],
      "metadata": {
        "id": "r0OoeWpfe0cF"
      }
    },
    {
      "cell_type": "code",
      "source": [],
      "metadata": {
        "id": "lRpV1775eERP"
      },
      "execution_count": null,
      "outputs": []
    },
    {
      "cell_type": "markdown",
      "source": [
        "##CNN"
      ],
      "metadata": {
        "id": "TEwJKe9ze3cT"
      }
    },
    {
      "cell_type": "code",
      "source": [
        "!git clone \"https://github.com/manas1410/Gene.git\""
      ],
      "metadata": {
        "id": "w-wsU-Ybe2wj"
      },
      "execution_count": null,
      "outputs": []
    },
    {
      "cell_type": "code",
      "source": [],
      "metadata": {
        "id": "70sAFcl5H17E"
      },
      "execution_count": null,
      "outputs": []
    },
    {
      "cell_type": "code",
      "source": [],
      "metadata": {
        "id": "KHaM_DGlH149"
      },
      "execution_count": null,
      "outputs": []
    },
    {
      "cell_type": "code",
      "source": [],
      "metadata": {
        "id": "IQcrkmR6H12X"
      },
      "execution_count": null,
      "outputs": []
    },
    {
      "cell_type": "code",
      "source": [],
      "metadata": {
        "id": "0kaXqWAkH1zO"
      },
      "execution_count": null,
      "outputs": []
    },
    {
      "cell_type": "code",
      "source": [],
      "metadata": {
        "id": "__ung9dtH1w5"
      },
      "execution_count": null,
      "outputs": []
    },
    {
      "cell_type": "code",
      "source": [
        "# Raw Package\n",
        "import numpy as np\n",
        "import pandas as pd\n",
        "\n",
        "#Data Source\n",
        "import yfinance as yf\n",
        "import datetime\n",
        "import time"
      ],
      "metadata": {
        "id": "_JCyWmG3H1uj"
      },
      "execution_count": null,
      "outputs": []
    },
    {
      "cell_type": "code",
      "source": [
        "def get_data(symbol, interval, start, end):\n",
        "    data = yf.download(tickers=symbol, start=start, end=end, interval=interval)\n",
        "    return data"
      ],
      "metadata": {
        "id": "J1Vq7Z_KH4B1"
      },
      "execution_count": null,
      "outputs": []
    },
    {
      "cell_type": "code",
      "source": [
        "symbol = \"BTC-USD\"\n",
        "interval = \"1d\"\n",
        "start = \"2016-01-01\"\n",
        "end = \"2021-05-05\"\n",
        "\n",
        "data = get_data(symbol, interval, start, end)"
      ],
      "metadata": {
        "colab": {
          "base_uri": "https://localhost:8080/"
        },
        "id": "_5gnQ0tZH6Pa",
        "outputId": "3b086ed7-e68f-4112-bd1f-9a70a08d896b"
      },
      "execution_count": null,
      "outputs": [
        {
          "output_type": "stream",
          "name": "stdout",
          "text": [
            "\r[*********************100%***********************]  1 of 1 completed\n"
          ]
        }
      ]
    },
    {
      "cell_type": "code",
      "source": [
        "data.head()"
      ],
      "metadata": {
        "colab": {
          "base_uri": "https://localhost:8080/",
          "height": 237
        },
        "id": "_4WkCDBPH8FL",
        "outputId": "d9dd615c-14a3-4dc8-cbb2-d5a40336232e"
      },
      "execution_count": null,
      "outputs": [
        {
          "output_type": "execute_result",
          "data": {
            "text/plain": [
              "                  Open        High         Low       Close   Adj Close  \\\n",
              "Date                                                                     \n",
              "2016-01-01  430.721008  436.246002  427.515015  434.334015  434.334015   \n",
              "2016-01-02  434.622009  436.062012  431.869995  433.437988  433.437988   \n",
              "2016-01-03  433.578003  433.743011  424.705994  430.010986  430.010986   \n",
              "2016-01-04  430.061005  434.516998  429.084015  433.091003  433.091003   \n",
              "2016-01-05  433.069000  434.182007  429.675995  431.959991  431.959991   \n",
              "\n",
              "              Volume  \n",
              "Date                  \n",
              "2016-01-01  36278900  \n",
              "2016-01-02  30096600  \n",
              "2016-01-03  39633800  \n",
              "2016-01-04  38477500  \n",
              "2016-01-05  34522600  "
            ],
            "text/html": [
              "\n",
              "  <div id=\"df-9cad659b-da38-43a4-ba05-d69be011b1b0\">\n",
              "    <div class=\"colab-df-container\">\n",
              "      <div>\n",
              "<style scoped>\n",
              "    .dataframe tbody tr th:only-of-type {\n",
              "        vertical-align: middle;\n",
              "    }\n",
              "\n",
              "    .dataframe tbody tr th {\n",
              "        vertical-align: top;\n",
              "    }\n",
              "\n",
              "    .dataframe thead th {\n",
              "        text-align: right;\n",
              "    }\n",
              "</style>\n",
              "<table border=\"1\" class=\"dataframe\">\n",
              "  <thead>\n",
              "    <tr style=\"text-align: right;\">\n",
              "      <th></th>\n",
              "      <th>Open</th>\n",
              "      <th>High</th>\n",
              "      <th>Low</th>\n",
              "      <th>Close</th>\n",
              "      <th>Adj Close</th>\n",
              "      <th>Volume</th>\n",
              "    </tr>\n",
              "    <tr>\n",
              "      <th>Date</th>\n",
              "      <th></th>\n",
              "      <th></th>\n",
              "      <th></th>\n",
              "      <th></th>\n",
              "      <th></th>\n",
              "      <th></th>\n",
              "    </tr>\n",
              "  </thead>\n",
              "  <tbody>\n",
              "    <tr>\n",
              "      <th>2016-01-01</th>\n",
              "      <td>430.721008</td>\n",
              "      <td>436.246002</td>\n",
              "      <td>427.515015</td>\n",
              "      <td>434.334015</td>\n",
              "      <td>434.334015</td>\n",
              "      <td>36278900</td>\n",
              "    </tr>\n",
              "    <tr>\n",
              "      <th>2016-01-02</th>\n",
              "      <td>434.622009</td>\n",
              "      <td>436.062012</td>\n",
              "      <td>431.869995</td>\n",
              "      <td>433.437988</td>\n",
              "      <td>433.437988</td>\n",
              "      <td>30096600</td>\n",
              "    </tr>\n",
              "    <tr>\n",
              "      <th>2016-01-03</th>\n",
              "      <td>433.578003</td>\n",
              "      <td>433.743011</td>\n",
              "      <td>424.705994</td>\n",
              "      <td>430.010986</td>\n",
              "      <td>430.010986</td>\n",
              "      <td>39633800</td>\n",
              "    </tr>\n",
              "    <tr>\n",
              "      <th>2016-01-04</th>\n",
              "      <td>430.061005</td>\n",
              "      <td>434.516998</td>\n",
              "      <td>429.084015</td>\n",
              "      <td>433.091003</td>\n",
              "      <td>433.091003</td>\n",
              "      <td>38477500</td>\n",
              "    </tr>\n",
              "    <tr>\n",
              "      <th>2016-01-05</th>\n",
              "      <td>433.069000</td>\n",
              "      <td>434.182007</td>\n",
              "      <td>429.675995</td>\n",
              "      <td>431.959991</td>\n",
              "      <td>431.959991</td>\n",
              "      <td>34522600</td>\n",
              "    </tr>\n",
              "  </tbody>\n",
              "</table>\n",
              "</div>\n",
              "      <button class=\"colab-df-convert\" onclick=\"convertToInteractive('df-9cad659b-da38-43a4-ba05-d69be011b1b0')\"\n",
              "              title=\"Convert this dataframe to an interactive table.\"\n",
              "              style=\"display:none;\">\n",
              "        \n",
              "  <svg xmlns=\"http://www.w3.org/2000/svg\" height=\"24px\"viewBox=\"0 0 24 24\"\n",
              "       width=\"24px\">\n",
              "    <path d=\"M0 0h24v24H0V0z\" fill=\"none\"/>\n",
              "    <path d=\"M18.56 5.44l.94 2.06.94-2.06 2.06-.94-2.06-.94-.94-2.06-.94 2.06-2.06.94zm-11 1L8.5 8.5l.94-2.06 2.06-.94-2.06-.94L8.5 2.5l-.94 2.06-2.06.94zm10 10l.94 2.06.94-2.06 2.06-.94-2.06-.94-.94-2.06-.94 2.06-2.06.94z\"/><path d=\"M17.41 7.96l-1.37-1.37c-.4-.4-.92-.59-1.43-.59-.52 0-1.04.2-1.43.59L10.3 9.45l-7.72 7.72c-.78.78-.78 2.05 0 2.83L4 21.41c.39.39.9.59 1.41.59.51 0 1.02-.2 1.41-.59l7.78-7.78 2.81-2.81c.8-.78.8-2.07 0-2.86zM5.41 20L4 18.59l7.72-7.72 1.47 1.35L5.41 20z\"/>\n",
              "  </svg>\n",
              "      </button>\n",
              "      \n",
              "  <style>\n",
              "    .colab-df-container {\n",
              "      display:flex;\n",
              "      flex-wrap:wrap;\n",
              "      gap: 12px;\n",
              "    }\n",
              "\n",
              "    .colab-df-convert {\n",
              "      background-color: #E8F0FE;\n",
              "      border: none;\n",
              "      border-radius: 50%;\n",
              "      cursor: pointer;\n",
              "      display: none;\n",
              "      fill: #1967D2;\n",
              "      height: 32px;\n",
              "      padding: 0 0 0 0;\n",
              "      width: 32px;\n",
              "    }\n",
              "\n",
              "    .colab-df-convert:hover {\n",
              "      background-color: #E2EBFA;\n",
              "      box-shadow: 0px 1px 2px rgba(60, 64, 67, 0.3), 0px 1px 3px 1px rgba(60, 64, 67, 0.15);\n",
              "      fill: #174EA6;\n",
              "    }\n",
              "\n",
              "    [theme=dark] .colab-df-convert {\n",
              "      background-color: #3B4455;\n",
              "      fill: #D2E3FC;\n",
              "    }\n",
              "\n",
              "    [theme=dark] .colab-df-convert:hover {\n",
              "      background-color: #434B5C;\n",
              "      box-shadow: 0px 1px 3px 1px rgba(0, 0, 0, 0.15);\n",
              "      filter: drop-shadow(0px 1px 2px rgba(0, 0, 0, 0.3));\n",
              "      fill: #FFFFFF;\n",
              "    }\n",
              "  </style>\n",
              "\n",
              "      <script>\n",
              "        const buttonEl =\n",
              "          document.querySelector('#df-9cad659b-da38-43a4-ba05-d69be011b1b0 button.colab-df-convert');\n",
              "        buttonEl.style.display =\n",
              "          google.colab.kernel.accessAllowed ? 'block' : 'none';\n",
              "\n",
              "        async function convertToInteractive(key) {\n",
              "          const element = document.querySelector('#df-9cad659b-da38-43a4-ba05-d69be011b1b0');\n",
              "          const dataTable =\n",
              "            await google.colab.kernel.invokeFunction('convertToInteractive',\n",
              "                                                     [key], {});\n",
              "          if (!dataTable) return;\n",
              "\n",
              "          const docLinkHtml = 'Like what you see? Visit the ' +\n",
              "            '<a target=\"_blank\" href=https://colab.research.google.com/notebooks/data_table.ipynb>data table notebook</a>'\n",
              "            + ' to learn more about interactive tables.';\n",
              "          element.innerHTML = '';\n",
              "          dataTable['output_type'] = 'display_data';\n",
              "          await google.colab.output.renderOutput(dataTable, element);\n",
              "          const docLink = document.createElement('div');\n",
              "          docLink.innerHTML = docLinkHtml;\n",
              "          element.appendChild(docLink);\n",
              "        }\n",
              "      </script>\n",
              "    </div>\n",
              "  </div>\n",
              "  "
            ]
          },
          "metadata": {},
          "execution_count": 10
        }
      ]
    },
    {
      "cell_type": "code",
      "source": [
        "data.shape"
      ],
      "metadata": {
        "colab": {
          "base_uri": "https://localhost:8080/"
        },
        "id": "w3nkY6TkKkpM",
        "outputId": "1ff3a799-55cb-4d92-d1a0-ecbcb1d83716"
      },
      "execution_count": null,
      "outputs": [
        {
          "output_type": "execute_result",
          "data": {
            "text/plain": [
              "(1951, 6)"
            ]
          },
          "metadata": {},
          "execution_count": 11
        }
      ]
    },
    {
      "cell_type": "code",
      "source": [
        "symbol = \"BTC-USD\"\n",
        "interval = \"1d\"\n",
        "start = \"2016-01-01\"\n",
        "end = \"2023-04-05\"\n",
        "\n",
        "data = get_data(symbol, interval, start, end)"
      ],
      "metadata": {
        "colab": {
          "base_uri": "https://localhost:8080/"
        },
        "id": "h3eeyihUH-Y3",
        "outputId": "fa4267ad-e0a8-4172-b3eb-9988e165d12c"
      },
      "execution_count": null,
      "outputs": [
        {
          "output_type": "stream",
          "name": "stdout",
          "text": [
            "\r[*********************100%***********************]  1 of 1 completed\n"
          ]
        }
      ]
    },
    {
      "cell_type": "code",
      "source": [
        "data.shape"
      ],
      "metadata": {
        "colab": {
          "base_uri": "https://localhost:8080/"
        },
        "id": "NsV7nua5Kn62",
        "outputId": "2869c883-63c8-4254-9599-a20cee349cf8"
      },
      "execution_count": null,
      "outputs": [
        {
          "output_type": "execute_result",
          "data": {
            "text/plain": [
              "(2651, 6)"
            ]
          },
          "metadata": {},
          "execution_count": 19
        }
      ]
    },
    {
      "cell_type": "code",
      "source": [
        "data.tail()"
      ],
      "metadata": {
        "colab": {
          "base_uri": "https://localhost:8080/",
          "height": 237
        },
        "id": "KlSJP0HRKqRb",
        "outputId": "5074cf24-9d10-4b96-cdeb-d328434e2401"
      },
      "execution_count": null,
      "outputs": [
        {
          "output_type": "execute_result",
          "data": {
            "text/plain": [
              "                    Open          High           Low         Close  \\\n",
              "Date                                                                 \n",
              "2023-03-31  28032.261719  28639.896484  27583.714844  28478.484375   \n",
              "2023-04-01  28473.332031  28802.457031  28297.171875  28411.035156   \n",
              "2023-04-02  28462.845703  28518.958984  27884.087891  28199.308594   \n",
              "2023-04-03  28183.080078  28475.623047  27276.720703  27790.220703   \n",
              "2023-04-04  27795.273438  28433.742188  27681.304688  28168.089844   \n",
              "\n",
              "               Adj Close       Volume  \n",
              "Date                                   \n",
              "2023-03-31  28478.484375  19001327598  \n",
              "2023-04-01  28411.035156  10876469901  \n",
              "2023-04-02  28199.308594  12284641999  \n",
              "2023-04-03  27790.220703  19556501327  \n",
              "2023-04-04  28168.089844  15284538859  "
            ],
            "text/html": [
              "\n",
              "  <div id=\"df-37b0e551-c4af-463a-b665-6abcb0b32911\">\n",
              "    <div class=\"colab-df-container\">\n",
              "      <div>\n",
              "<style scoped>\n",
              "    .dataframe tbody tr th:only-of-type {\n",
              "        vertical-align: middle;\n",
              "    }\n",
              "\n",
              "    .dataframe tbody tr th {\n",
              "        vertical-align: top;\n",
              "    }\n",
              "\n",
              "    .dataframe thead th {\n",
              "        text-align: right;\n",
              "    }\n",
              "</style>\n",
              "<table border=\"1\" class=\"dataframe\">\n",
              "  <thead>\n",
              "    <tr style=\"text-align: right;\">\n",
              "      <th></th>\n",
              "      <th>Open</th>\n",
              "      <th>High</th>\n",
              "      <th>Low</th>\n",
              "      <th>Close</th>\n",
              "      <th>Adj Close</th>\n",
              "      <th>Volume</th>\n",
              "    </tr>\n",
              "    <tr>\n",
              "      <th>Date</th>\n",
              "      <th></th>\n",
              "      <th></th>\n",
              "      <th></th>\n",
              "      <th></th>\n",
              "      <th></th>\n",
              "      <th></th>\n",
              "    </tr>\n",
              "  </thead>\n",
              "  <tbody>\n",
              "    <tr>\n",
              "      <th>2023-03-31</th>\n",
              "      <td>28032.261719</td>\n",
              "      <td>28639.896484</td>\n",
              "      <td>27583.714844</td>\n",
              "      <td>28478.484375</td>\n",
              "      <td>28478.484375</td>\n",
              "      <td>19001327598</td>\n",
              "    </tr>\n",
              "    <tr>\n",
              "      <th>2023-04-01</th>\n",
              "      <td>28473.332031</td>\n",
              "      <td>28802.457031</td>\n",
              "      <td>28297.171875</td>\n",
              "      <td>28411.035156</td>\n",
              "      <td>28411.035156</td>\n",
              "      <td>10876469901</td>\n",
              "    </tr>\n",
              "    <tr>\n",
              "      <th>2023-04-02</th>\n",
              "      <td>28462.845703</td>\n",
              "      <td>28518.958984</td>\n",
              "      <td>27884.087891</td>\n",
              "      <td>28199.308594</td>\n",
              "      <td>28199.308594</td>\n",
              "      <td>12284641999</td>\n",
              "    </tr>\n",
              "    <tr>\n",
              "      <th>2023-04-03</th>\n",
              "      <td>28183.080078</td>\n",
              "      <td>28475.623047</td>\n",
              "      <td>27276.720703</td>\n",
              "      <td>27790.220703</td>\n",
              "      <td>27790.220703</td>\n",
              "      <td>19556501327</td>\n",
              "    </tr>\n",
              "    <tr>\n",
              "      <th>2023-04-04</th>\n",
              "      <td>27795.273438</td>\n",
              "      <td>28433.742188</td>\n",
              "      <td>27681.304688</td>\n",
              "      <td>28168.089844</td>\n",
              "      <td>28168.089844</td>\n",
              "      <td>15284538859</td>\n",
              "    </tr>\n",
              "  </tbody>\n",
              "</table>\n",
              "</div>\n",
              "      <button class=\"colab-df-convert\" onclick=\"convertToInteractive('df-37b0e551-c4af-463a-b665-6abcb0b32911')\"\n",
              "              title=\"Convert this dataframe to an interactive table.\"\n",
              "              style=\"display:none;\">\n",
              "        \n",
              "  <svg xmlns=\"http://www.w3.org/2000/svg\" height=\"24px\"viewBox=\"0 0 24 24\"\n",
              "       width=\"24px\">\n",
              "    <path d=\"M0 0h24v24H0V0z\" fill=\"none\"/>\n",
              "    <path d=\"M18.56 5.44l.94 2.06.94-2.06 2.06-.94-2.06-.94-.94-2.06-.94 2.06-2.06.94zm-11 1L8.5 8.5l.94-2.06 2.06-.94-2.06-.94L8.5 2.5l-.94 2.06-2.06.94zm10 10l.94 2.06.94-2.06 2.06-.94-2.06-.94-.94-2.06-.94 2.06-2.06.94z\"/><path d=\"M17.41 7.96l-1.37-1.37c-.4-.4-.92-.59-1.43-.59-.52 0-1.04.2-1.43.59L10.3 9.45l-7.72 7.72c-.78.78-.78 2.05 0 2.83L4 21.41c.39.39.9.59 1.41.59.51 0 1.02-.2 1.41-.59l7.78-7.78 2.81-2.81c.8-.78.8-2.07 0-2.86zM5.41 20L4 18.59l7.72-7.72 1.47 1.35L5.41 20z\"/>\n",
              "  </svg>\n",
              "      </button>\n",
              "      \n",
              "  <style>\n",
              "    .colab-df-container {\n",
              "      display:flex;\n",
              "      flex-wrap:wrap;\n",
              "      gap: 12px;\n",
              "    }\n",
              "\n",
              "    .colab-df-convert {\n",
              "      background-color: #E8F0FE;\n",
              "      border: none;\n",
              "      border-radius: 50%;\n",
              "      cursor: pointer;\n",
              "      display: none;\n",
              "      fill: #1967D2;\n",
              "      height: 32px;\n",
              "      padding: 0 0 0 0;\n",
              "      width: 32px;\n",
              "    }\n",
              "\n",
              "    .colab-df-convert:hover {\n",
              "      background-color: #E2EBFA;\n",
              "      box-shadow: 0px 1px 2px rgba(60, 64, 67, 0.3), 0px 1px 3px 1px rgba(60, 64, 67, 0.15);\n",
              "      fill: #174EA6;\n",
              "    }\n",
              "\n",
              "    [theme=dark] .colab-df-convert {\n",
              "      background-color: #3B4455;\n",
              "      fill: #D2E3FC;\n",
              "    }\n",
              "\n",
              "    [theme=dark] .colab-df-convert:hover {\n",
              "      background-color: #434B5C;\n",
              "      box-shadow: 0px 1px 3px 1px rgba(0, 0, 0, 0.15);\n",
              "      filter: drop-shadow(0px 1px 2px rgba(0, 0, 0, 0.3));\n",
              "      fill: #FFFFFF;\n",
              "    }\n",
              "  </style>\n",
              "\n",
              "      <script>\n",
              "        const buttonEl =\n",
              "          document.querySelector('#df-37b0e551-c4af-463a-b665-6abcb0b32911 button.colab-df-convert');\n",
              "        buttonEl.style.display =\n",
              "          google.colab.kernel.accessAllowed ? 'block' : 'none';\n",
              "\n",
              "        async function convertToInteractive(key) {\n",
              "          const element = document.querySelector('#df-37b0e551-c4af-463a-b665-6abcb0b32911');\n",
              "          const dataTable =\n",
              "            await google.colab.kernel.invokeFunction('convertToInteractive',\n",
              "                                                     [key], {});\n",
              "          if (!dataTable) return;\n",
              "\n",
              "          const docLinkHtml = 'Like what you see? Visit the ' +\n",
              "            '<a target=\"_blank\" href=https://colab.research.google.com/notebooks/data_table.ipynb>data table notebook</a>'\n",
              "            + ' to learn more about interactive tables.';\n",
              "          element.innerHTML = '';\n",
              "          dataTable['output_type'] = 'display_data';\n",
              "          await google.colab.output.renderOutput(dataTable, element);\n",
              "          const docLink = document.createElement('div');\n",
              "          docLink.innerHTML = docLinkHtml;\n",
              "          element.appendChild(docLink);\n",
              "        }\n",
              "      </script>\n",
              "    </div>\n",
              "  </div>\n",
              "  "
            ]
          },
          "metadata": {},
          "execution_count": 20
        }
      ]
    },
    {
      "cell_type": "code",
      "source": [],
      "metadata": {
        "id": "c7xgV2UQKvIK"
      },
      "execution_count": null,
      "outputs": []
    },
    {
      "cell_type": "code",
      "source": [],
      "metadata": {
        "id": "GGmy7Nt4MTY8"
      },
      "execution_count": null,
      "outputs": []
    },
    {
      "cell_type": "code",
      "source": [
        "! pip install kaggle\n",
        "! mkdir ~/.kaggle\n",
        "! cp kaggle.json ~/.kaggle/\n",
        "! chmod 600 ~/.kaggle/kaggle.json"
      ],
      "metadata": {
        "colab": {
          "base_uri": "https://localhost:8080/"
        },
        "id": "Bbf2xUpUMTVD",
        "outputId": "b3eb7c15-d270-43c6-b61f-dd6471f5fcae"
      },
      "execution_count": null,
      "outputs": [
        {
          "output_type": "stream",
          "name": "stdout",
          "text": [
            "Looking in indexes: https://pypi.org/simple, https://us-python.pkg.dev/colab-wheels/public/simple/\n",
            "Requirement already satisfied: kaggle in /usr/local/lib/python3.9/dist-packages (1.5.13)\n",
            "Requirement already satisfied: python-dateutil in /usr/local/lib/python3.9/dist-packages (from kaggle) (2.8.2)\n",
            "Requirement already satisfied: certifi in /usr/local/lib/python3.9/dist-packages (from kaggle) (2022.12.7)\n",
            "Requirement already satisfied: six>=1.10 in /usr/local/lib/python3.9/dist-packages (from kaggle) (1.16.0)\n",
            "Requirement already satisfied: tqdm in /usr/local/lib/python3.9/dist-packages (from kaggle) (4.65.0)\n",
            "Requirement already satisfied: urllib3 in /usr/local/lib/python3.9/dist-packages (from kaggle) (1.26.15)\n",
            "Requirement already satisfied: python-slugify in /usr/local/lib/python3.9/dist-packages (from kaggle) (8.0.1)\n",
            "Requirement already satisfied: requests in /usr/local/lib/python3.9/dist-packages (from kaggle) (2.27.1)\n",
            "Requirement already satisfied: text-unidecode>=1.3 in /usr/local/lib/python3.9/dist-packages (from python-slugify->kaggle) (1.3)\n",
            "Requirement already satisfied: idna<4,>=2.5 in /usr/local/lib/python3.9/dist-packages (from requests->kaggle) (3.4)\n",
            "Requirement already satisfied: charset-normalizer~=2.0.0 in /usr/local/lib/python3.9/dist-packages (from requests->kaggle) (2.0.12)\n"
          ]
        }
      ]
    },
    {
      "cell_type": "code",
      "source": [
        "! kaggle datasets download alaix14/bitcoin-tweets-20160101-to-20190329"
      ],
      "metadata": {
        "colab": {
          "base_uri": "https://localhost:8080/"
        },
        "id": "wf9zpjkXMbyO",
        "outputId": "cca15534-192e-47da-954f-10b4997333be"
      },
      "execution_count": null,
      "outputs": [
        {
          "output_type": "stream",
          "name": "stdout",
          "text": [
            "Downloading bitcoin-tweets-20160101-to-20190329.zip to /content\n",
            "100% 1.58G/1.58G [00:18<00:00, 96.9MB/s]\n",
            "100% 1.58G/1.58G [00:18<00:00, 90.2MB/s]\n"
          ]
        }
      ]
    },
    {
      "cell_type": "code",
      "source": [
        "!unzip bitcoin-tweets-20160101-to-20190329.zip"
      ],
      "metadata": {
        "colab": {
          "base_uri": "https://localhost:8080/"
        },
        "id": "s4WT8f6mNCtc",
        "outputId": "c3b600ab-d10a-4c0a-d69b-7f851a6c159b"
      },
      "execution_count": null,
      "outputs": [
        {
          "output_type": "stream",
          "name": "stdout",
          "text": [
            "Archive:  bitcoin-tweets-20160101-to-20190329.zip\n",
            "  inflating: tweets.csv              \n"
          ]
        }
      ]
    },
    {
      "cell_type": "code",
      "source": [
        "import pandas as pd\n",
        "df = pd.read_csv('tweets.csv',encoding='latin-1',chunksize = 10000,lineterminator='\\n',nrows=200000)"
      ],
      "metadata": {
        "id": "sSnv7Xv8NK3c"
      },
      "execution_count": null,
      "outputs": []
    },
    {
      "cell_type": "code",
      "source": [
        "df"
      ],
      "metadata": {
        "colab": {
          "base_uri": "https://localhost:8080/"
        },
        "id": "X4mrFu6vSjPc",
        "outputId": "8754adde-e119-44e7-b5c0-337d6b28358f"
      },
      "execution_count": null,
      "outputs": [
        {
          "output_type": "execute_result",
          "data": {
            "text/plain": [
              "<pandas.io.parsers.readers.TextFileReader at 0x7fd5b58703a0>"
            ]
          },
          "metadata": {},
          "execution_count": 12
        }
      ]
    },
    {
      "cell_type": "code",
      "source": [
        "df.get_chunk(3)"
      ],
      "metadata": {
        "colab": {
          "base_uri": "https://localhost:8080/",
          "height": 201
        },
        "id": "DL3clO_RNfZl",
        "outputId": "ac70d680-602d-4b02-f785-62585ed7760c"
      },
      "execution_count": null,
      "outputs": [
        {
          "output_type": "execute_result",
          "data": {
            "text/plain": [
              "  ï»¿id;user;fullname;url;timestamp;replies;likes;retweets;text\\r\n",
              "0  1132977055300300800;KamdemAbdiel;Abdiel kamdem...             \n",
              "1  1132977073402736640;bitcointe;Bitcointe;;2019-...             \n",
              "2  1132977023893139456;3eyedbran;Bran - 3 Eyed Ra...             "
            ],
            "text/html": [
              "\n",
              "  <div id=\"df-67383073-fb20-4ebb-a706-cacf6248e8a4\">\n",
              "    <div class=\"colab-df-container\">\n",
              "      <div>\n",
              "<style scoped>\n",
              "    .dataframe tbody tr th:only-of-type {\n",
              "        vertical-align: middle;\n",
              "    }\n",
              "\n",
              "    .dataframe tbody tr th {\n",
              "        vertical-align: top;\n",
              "    }\n",
              "\n",
              "    .dataframe thead th {\n",
              "        text-align: right;\n",
              "    }\n",
              "</style>\n",
              "<table border=\"1\" class=\"dataframe\">\n",
              "  <thead>\n",
              "    <tr style=\"text-align: right;\">\n",
              "      <th></th>\n",
              "      <th>ï»¿id;user;fullname;url;timestamp;replies;likes;retweets;text\\r</th>\n",
              "    </tr>\n",
              "  </thead>\n",
              "  <tbody>\n",
              "    <tr>\n",
              "      <th>0</th>\n",
              "      <td>1132977055300300800;KamdemAbdiel;Abdiel kamdem...</td>\n",
              "    </tr>\n",
              "    <tr>\n",
              "      <th>1</th>\n",
              "      <td>1132977073402736640;bitcointe;Bitcointe;;2019-...</td>\n",
              "    </tr>\n",
              "    <tr>\n",
              "      <th>2</th>\n",
              "      <td>1132977023893139456;3eyedbran;Bran - 3 Eyed Ra...</td>\n",
              "    </tr>\n",
              "  </tbody>\n",
              "</table>\n",
              "</div>\n",
              "      <button class=\"colab-df-convert\" onclick=\"convertToInteractive('df-67383073-fb20-4ebb-a706-cacf6248e8a4')\"\n",
              "              title=\"Convert this dataframe to an interactive table.\"\n",
              "              style=\"display:none;\">\n",
              "        \n",
              "  <svg xmlns=\"http://www.w3.org/2000/svg\" height=\"24px\"viewBox=\"0 0 24 24\"\n",
              "       width=\"24px\">\n",
              "    <path d=\"M0 0h24v24H0V0z\" fill=\"none\"/>\n",
              "    <path d=\"M18.56 5.44l.94 2.06.94-2.06 2.06-.94-2.06-.94-.94-2.06-.94 2.06-2.06.94zm-11 1L8.5 8.5l.94-2.06 2.06-.94-2.06-.94L8.5 2.5l-.94 2.06-2.06.94zm10 10l.94 2.06.94-2.06 2.06-.94-2.06-.94-.94-2.06-.94 2.06-2.06.94z\"/><path d=\"M17.41 7.96l-1.37-1.37c-.4-.4-.92-.59-1.43-.59-.52 0-1.04.2-1.43.59L10.3 9.45l-7.72 7.72c-.78.78-.78 2.05 0 2.83L4 21.41c.39.39.9.59 1.41.59.51 0 1.02-.2 1.41-.59l7.78-7.78 2.81-2.81c.8-.78.8-2.07 0-2.86zM5.41 20L4 18.59l7.72-7.72 1.47 1.35L5.41 20z\"/>\n",
              "  </svg>\n",
              "      </button>\n",
              "      \n",
              "  <style>\n",
              "    .colab-df-container {\n",
              "      display:flex;\n",
              "      flex-wrap:wrap;\n",
              "      gap: 12px;\n",
              "    }\n",
              "\n",
              "    .colab-df-convert {\n",
              "      background-color: #E8F0FE;\n",
              "      border: none;\n",
              "      border-radius: 50%;\n",
              "      cursor: pointer;\n",
              "      display: none;\n",
              "      fill: #1967D2;\n",
              "      height: 32px;\n",
              "      padding: 0 0 0 0;\n",
              "      width: 32px;\n",
              "    }\n",
              "\n",
              "    .colab-df-convert:hover {\n",
              "      background-color: #E2EBFA;\n",
              "      box-shadow: 0px 1px 2px rgba(60, 64, 67, 0.3), 0px 1px 3px 1px rgba(60, 64, 67, 0.15);\n",
              "      fill: #174EA6;\n",
              "    }\n",
              "\n",
              "    [theme=dark] .colab-df-convert {\n",
              "      background-color: #3B4455;\n",
              "      fill: #D2E3FC;\n",
              "    }\n",
              "\n",
              "    [theme=dark] .colab-df-convert:hover {\n",
              "      background-color: #434B5C;\n",
              "      box-shadow: 0px 1px 3px 1px rgba(0, 0, 0, 0.15);\n",
              "      filter: drop-shadow(0px 1px 2px rgba(0, 0, 0, 0.3));\n",
              "      fill: #FFFFFF;\n",
              "    }\n",
              "  </style>\n",
              "\n",
              "      <script>\n",
              "        const buttonEl =\n",
              "          document.querySelector('#df-67383073-fb20-4ebb-a706-cacf6248e8a4 button.colab-df-convert');\n",
              "        buttonEl.style.display =\n",
              "          google.colab.kernel.accessAllowed ? 'block' : 'none';\n",
              "\n",
              "        async function convertToInteractive(key) {\n",
              "          const element = document.querySelector('#df-67383073-fb20-4ebb-a706-cacf6248e8a4');\n",
              "          const dataTable =\n",
              "            await google.colab.kernel.invokeFunction('convertToInteractive',\n",
              "                                                     [key], {});\n",
              "          if (!dataTable) return;\n",
              "\n",
              "          const docLinkHtml = 'Like what you see? Visit the ' +\n",
              "            '<a target=\"_blank\" href=https://colab.research.google.com/notebooks/data_table.ipynb>data table notebook</a>'\n",
              "            + ' to learn more about interactive tables.';\n",
              "          element.innerHTML = '';\n",
              "          dataTable['output_type'] = 'display_data';\n",
              "          await google.colab.output.renderOutput(dataTable, element);\n",
              "          const docLink = document.createElement('div');\n",
              "          docLink.innerHTML = docLinkHtml;\n",
              "          element.appendChild(docLink);\n",
              "        }\n",
              "      </script>\n",
              "    </div>\n",
              "  </div>\n",
              "  "
            ]
          },
          "metadata": {},
          "execution_count": 10
        }
      ]
    },
    {
      "cell_type": "code",
      "source": [
        "df"
      ],
      "metadata": {
        "colab": {
          "base_uri": "https://localhost:8080/"
        },
        "id": "eOzcazxNNhMQ",
        "outputId": "59b90f55-2c7b-4fe3-d73a-b4562756616e"
      },
      "execution_count": null,
      "outputs": [
        {
          "output_type": "execute_result",
          "data": {
            "text/plain": [
              "<pandas.io.parsers.readers.TextFileReader at 0x7fd5b58703a0>"
            ]
          },
          "metadata": {},
          "execution_count": 11
        }
      ]
    },
    {
      "cell_type": "code",
      "source": [],
      "metadata": {
        "id": "hGvs-_UoRsxO"
      },
      "execution_count": null,
      "outputs": []
    }
  ]
}